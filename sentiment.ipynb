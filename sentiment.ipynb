{
 "cells": [
  {
   "cell_type": "markdown",
   "metadata": {},
   "source": [
    "# SENTIMENT ANALYSIS ON BRAND PRODUCTS"
   ]
  },
  {
   "cell_type": "markdown",
   "metadata": {},
   "source": []
  },
  {
   "cell_type": "markdown",
   "metadata": {},
   "source": [
    "## BUSINESS UNDERSTANDING"
   ]
  },
  {
   "cell_type": "markdown",
   "metadata": {},
   "source": [
    "### Problem Statements\n",
    "\n",
    "**1. Brand Competitor Analysis**\n",
    "   - **Problem Statement**: Our goal is to compare sentiment and customer perceptions between our brand and its competitors mentioned in tweets. This competitive analysis will help us identify strengths and weaknesses, allowing us to develop strategies to gain a competitive edge.\n",
    "   - **Targeted Audience**: Brand managers and marketing strategists.\n",
    "\n",
    "**2. Product Launch Evaluation**\n",
    "   - **Problem Statement**: We aim to assess customer sentiment and emotions surrounding recent product launches by our brand. Analyzing these tweets will provide insights into the effectiveness of our launch strategies and areas for improvement.\n",
    "   - **Targeted Audience**: Product launch teams, marketing departments, and product managers.\n",
    "\n",
    "**3. Customer Support Feedback**\n",
    "   - **Problem Statement**: Our objective is to analyze tweets expressing negative emotions directed at our brand's customer support. Identifying recurring issues and sentiment trends will help us enhance our customer support services and address pain points.\n",
    "   - **Targeted Audience**: Customer support teams, customer experience managers, and quality assurance departments.\n",
    "\n",
    "**4. Influencer Engagement Strategy**\n",
    "   - **Problem Statement**: We aim to identify potential brand influencers by analyzing tweets where individuals express strong positive sentiments toward our products. Crafting an influencer engagement strategy based on this analysis will help us leverage brand advocates.\n",
    "   - **Targeted Audience**: Influencer marketing teams and social media managers.\n",
    "\n",
    "**5. Seasonal Marketing Campaigns**\n",
    "   - **Problem Statement**: Our goal is to analyze tweets mentioning our brand and its products during specific seasons or holidays (e.g., Christmas, back-to-school). This analysis will inform the development of seasonal marketing campaigns tailored to customer sentiment and preferences.\n",
    "   - **Targeted Audience**: Seasonal marketing teams, digital marketing managers, and brand strategists."
   ]
  },
  {
   "cell_type": "markdown",
   "metadata": {},
   "source": [
    "## DATA UNDERSTANDING\n",
    "**Dataset Description**: The dataset consists of tweets mentioning specific brands or products, along with associated emotions. Analyzing this data can provide valuable insights into brand-specific sentiment, customer feedback, and marketing opportunities.\n"
   ]
  },
  {
   "cell_type": "code",
   "execution_count": 30,
   "metadata": {},
   "outputs": [],
   "source": [
    "import pandas as pd\n",
    "import numpy as np\n",
    "import matplotlib.pyplot as plt\n",
    "import seaborn as sns\n",
    "import nltk\n",
    "import string\n",
    "import re\n",
    "from nltk.sentiment import SentimentIntensityAnalyzer\n",
    "from nltk.corpus import stopwords\n",
    "from nltk import FreqDist\n",
    "from nltk.tokenize import word_tokenize\n",
    "from nltk.tokenize import sent_tokenize\n",
    "from nltk.stem import WordNetLemmatizer\n",
    "from sklearn.preprocessing import LabelEncoder\n",
    "from sklearn.model_selection import train_test_split, GridSearchCV\n",
    "from sklearn.feature_extraction.text import TfidfVectorizer\n",
    "from sklearn.linear_model import LogisticRegression\n",
    "from sklearn.metrics import accuracy_score, classification_report\n",
    "from sklearn.ensemble import RandomForestClassifier\n",
    "from sklearn.svm import SVC\n",
    "from sklearn.decomposition import LatentDirichletAllocation\n",
    "from transformers import BertTokenizer, TFBertForSequenceClassification\n",
    "from tensorflow.keras.models import Sequential\n",
    "from tensorflow.keras.layers import Embedding, Conv1D, GlobalMaxPooling1D, Dense, Dropout\n",
    "from keras.models import Sequential\n",
    "from keras.layers import Embedding, SimpleRNN, Dense\n",
    "from keras.preprocessing.sequence import pad_sequences\n",
    "from wordcloud import WordCloud\n",
    "\n"
   ]
  },
  {
   "cell_type": "code",
   "execution_count": 31,
   "metadata": {},
   "outputs": [],
   "source": [
    "df = pd.read_csv('judge-1377884607_tweet_product_company.csv', encoding='Latin1')"
   ]
  },
  {
   "cell_type": "code",
   "execution_count": 32,
   "metadata": {},
   "outputs": [
    {
     "data": {
      "text/html": [
       "<div>\n",
       "<style scoped>\n",
       "    .dataframe tbody tr th:only-of-type {\n",
       "        vertical-align: middle;\n",
       "    }\n",
       "\n",
       "    .dataframe tbody tr th {\n",
       "        vertical-align: top;\n",
       "    }\n",
       "\n",
       "    .dataframe thead th {\n",
       "        text-align: right;\n",
       "    }\n",
       "</style>\n",
       "<table border=\"1\" class=\"dataframe\">\n",
       "  <thead>\n",
       "    <tr style=\"text-align: right;\">\n",
       "      <th></th>\n",
       "      <th>tweet_text</th>\n",
       "      <th>emotion_in_tweet_is_directed_at</th>\n",
       "      <th>is_there_an_emotion_directed_at_a_brand_or_product</th>\n",
       "    </tr>\n",
       "  </thead>\n",
       "  <tbody>\n",
       "    <tr>\n",
       "      <th>0</th>\n",
       "      <td>.@wesley83 I have a 3G iPhone. After 3 hrs twe...</td>\n",
       "      <td>iPhone</td>\n",
       "      <td>Negative emotion</td>\n",
       "    </tr>\n",
       "    <tr>\n",
       "      <th>1</th>\n",
       "      <td>@jessedee Know about @fludapp ? Awesome iPad/i...</td>\n",
       "      <td>iPad or iPhone App</td>\n",
       "      <td>Positive emotion</td>\n",
       "    </tr>\n",
       "    <tr>\n",
       "      <th>2</th>\n",
       "      <td>@swonderlin Can not wait for #iPad 2 also. The...</td>\n",
       "      <td>iPad</td>\n",
       "      <td>Positive emotion</td>\n",
       "    </tr>\n",
       "    <tr>\n",
       "      <th>3</th>\n",
       "      <td>@sxsw I hope this year's festival isn't as cra...</td>\n",
       "      <td>iPad or iPhone App</td>\n",
       "      <td>Negative emotion</td>\n",
       "    </tr>\n",
       "    <tr>\n",
       "      <th>4</th>\n",
       "      <td>@sxtxstate great stuff on Fri #SXSW: Marissa M...</td>\n",
       "      <td>Google</td>\n",
       "      <td>Positive emotion</td>\n",
       "    </tr>\n",
       "  </tbody>\n",
       "</table>\n",
       "</div>"
      ],
      "text/plain": [
       "                                          tweet_text  \\\n",
       "0  .@wesley83 I have a 3G iPhone. After 3 hrs twe...   \n",
       "1  @jessedee Know about @fludapp ? Awesome iPad/i...   \n",
       "2  @swonderlin Can not wait for #iPad 2 also. The...   \n",
       "3  @sxsw I hope this year's festival isn't as cra...   \n",
       "4  @sxtxstate great stuff on Fri #SXSW: Marissa M...   \n",
       "\n",
       "  emotion_in_tweet_is_directed_at  \\\n",
       "0                          iPhone   \n",
       "1              iPad or iPhone App   \n",
       "2                            iPad   \n",
       "3              iPad or iPhone App   \n",
       "4                          Google   \n",
       "\n",
       "  is_there_an_emotion_directed_at_a_brand_or_product  \n",
       "0                                   Negative emotion  \n",
       "1                                   Positive emotion  \n",
       "2                                   Positive emotion  \n",
       "3                                   Negative emotion  \n",
       "4                                   Positive emotion  "
      ]
     },
     "execution_count": 32,
     "metadata": {},
     "output_type": "execute_result"
    }
   ],
   "source": [
    "df.head()"
   ]
  },
  {
   "cell_type": "code",
   "execution_count": 33,
   "metadata": {},
   "outputs": [
    {
     "data": {
      "text/html": [
       "<div>\n",
       "<style scoped>\n",
       "    .dataframe tbody tr th:only-of-type {\n",
       "        vertical-align: middle;\n",
       "    }\n",
       "\n",
       "    .dataframe tbody tr th {\n",
       "        vertical-align: top;\n",
       "    }\n",
       "\n",
       "    .dataframe thead th {\n",
       "        text-align: right;\n",
       "    }\n",
       "</style>\n",
       "<table border=\"1\" class=\"dataframe\">\n",
       "  <thead>\n",
       "    <tr style=\"text-align: right;\">\n",
       "      <th></th>\n",
       "      <th>tweet_text</th>\n",
       "      <th>emotion_in_tweet_is_directed_at</th>\n",
       "      <th>is_there_an_emotion_directed_at_a_brand_or_product</th>\n",
       "    </tr>\n",
       "  </thead>\n",
       "  <tbody>\n",
       "    <tr>\n",
       "      <th>count</th>\n",
       "      <td>9092</td>\n",
       "      <td>3291</td>\n",
       "      <td>9093</td>\n",
       "    </tr>\n",
       "    <tr>\n",
       "      <th>unique</th>\n",
       "      <td>9065</td>\n",
       "      <td>9</td>\n",
       "      <td>4</td>\n",
       "    </tr>\n",
       "    <tr>\n",
       "      <th>top</th>\n",
       "      <td>RT @mention Marissa Mayer: Google Will Connect...</td>\n",
       "      <td>iPad</td>\n",
       "      <td>No emotion toward brand or product</td>\n",
       "    </tr>\n",
       "    <tr>\n",
       "      <th>freq</th>\n",
       "      <td>5</td>\n",
       "      <td>946</td>\n",
       "      <td>5389</td>\n",
       "    </tr>\n",
       "  </tbody>\n",
       "</table>\n",
       "</div>"
      ],
      "text/plain": [
       "                                               tweet_text  \\\n",
       "count                                                9092   \n",
       "unique                                               9065   \n",
       "top     RT @mention Marissa Mayer: Google Will Connect...   \n",
       "freq                                                    5   \n",
       "\n",
       "       emotion_in_tweet_is_directed_at  \\\n",
       "count                             3291   \n",
       "unique                               9   \n",
       "top                               iPad   \n",
       "freq                               946   \n",
       "\n",
       "       is_there_an_emotion_directed_at_a_brand_or_product  \n",
       "count                                                9093  \n",
       "unique                                                  4  \n",
       "top                    No emotion toward brand or product  \n",
       "freq                                                 5389  "
      ]
     },
     "execution_count": 33,
     "metadata": {},
     "output_type": "execute_result"
    }
   ],
   "source": [
    "# Display summary statistics\n",
    "df.describe(include='all')"
   ]
  },
  {
   "cell_type": "markdown",
   "metadata": {},
   "source": [
    "The dataset contains a total of 9,093 entries. In the 'tweet_text' column, there are 9,092 unique tweets, indicating minimal duplicate content. The 'emotion_in_tweet_is_directed_at' column has 3,291 unique values, which suggests a variety of brands or products mentioned. The most frequent emotion is \"No emotion toward brand or product,\" appearing 5,389 times, indicating that a substantial portion of tweets does not express a specific sentiment toward any brand or product. The 'iPad' is the most frequently mentioned brand/product, appearing 946 times. Here on we performed data cleaning steps :"
   ]
  },
  {
   "cell_type": "code",
   "execution_count": 34,
   "metadata": {},
   "outputs": [
    {
     "data": {
      "text/plain": [
       "tweet_text                                               1\n",
       "emotion_in_tweet_is_directed_at                       5802\n",
       "is_there_an_emotion_directed_at_a_brand_or_product       0\n",
       "dtype: int64"
      ]
     },
     "execution_count": 34,
     "metadata": {},
     "output_type": "execute_result"
    }
   ],
   "source": [
    "missing_values = df.isna().sum()\n",
    "missing_values"
   ]
  },
  {
   "cell_type": "code",
   "execution_count": 35,
   "metadata": {},
   "outputs": [
    {
     "data": {
      "text/plain": [
       "tweet_text                                            0\n",
       "emotion_in_tweet_is_directed_at                       0\n",
       "is_there_an_emotion_directed_at_a_brand_or_product    0\n",
       "dtype: int64"
      ]
     },
     "execution_count": 35,
     "metadata": {},
     "output_type": "execute_result"
    }
   ],
   "source": [
    "# Handle missing values in 'tweet_text' by filling with an empty string\n",
    "df['tweet_text'].fillna('', inplace=True)\n",
    "\n",
    "# Handle missing values in 'emotion_in_tweet_is_directed_at' by filling with a placeholder \n",
    "df['emotion_in_tweet_is_directed_at'].fillna('', inplace=True)\n",
    "# Verify if missing values have been handled\n",
    "missing_values = df.isna().sum()\n",
    "missing_values\n"
   ]
  },
  {
   "cell_type": "code",
   "execution_count": 36,
   "metadata": {},
   "outputs": [
    {
     "name": "stdout",
     "output_type": "stream",
     "text": [
      "<class 'pandas.core.frame.DataFrame'>\n",
      "RangeIndex: 9093 entries, 0 to 9092\n",
      "Data columns (total 3 columns):\n",
      " #   Column                                              Non-Null Count  Dtype \n",
      "---  ------                                              --------------  ----- \n",
      " 0   tweet_text                                          9093 non-null   object\n",
      " 1   emotion_in_tweet_is_directed_at                     9093 non-null   object\n",
      " 2   is_there_an_emotion_directed_at_a_brand_or_product  9093 non-null   object\n",
      "dtypes: object(3)\n",
      "memory usage: 213.2+ KB\n"
     ]
    }
   ],
   "source": [
    "df.info()"
   ]
  },
  {
   "cell_type": "code",
   "execution_count": 88,
   "metadata": {},
   "outputs": [
    {
     "name": "stderr",
     "output_type": "stream",
     "text": [
      "c:\\Users\\STREAMING\\Downloads\\KEVOS PROJECT\\venv\\Lib\\site-packages\\seaborn\\_oldcore.py:1498: FutureWarning: is_categorical_dtype is deprecated and will be removed in a future version. Use isinstance(dtype, CategoricalDtype) instead\n",
      "  if pd.api.types.is_categorical_dtype(vector):\n",
      "c:\\Users\\STREAMING\\Downloads\\KEVOS PROJECT\\venv\\Lib\\site-packages\\seaborn\\_oldcore.py:1498: FutureWarning: is_categorical_dtype is deprecated and will be removed in a future version. Use isinstance(dtype, CategoricalDtype) instead\n",
      "  if pd.api.types.is_categorical_dtype(vector):\n",
      "c:\\Users\\STREAMING\\Downloads\\KEVOS PROJECT\\venv\\Lib\\site-packages\\seaborn\\_oldcore.py:1498: FutureWarning: is_categorical_dtype is deprecated and will be removed in a future version. Use isinstance(dtype, CategoricalDtype) instead\n",
      "  if pd.api.types.is_categorical_dtype(vector):\n"
     ]
    },
    {
     "data": {
      "image/png": "[encoded data removed]",
      "text/plain": [
       "<Figure size 800x500 with 1 Axes>"
      ]
     },
     "metadata": {},
     "output_type": "display_data"
    }
   ],
   "source": [
    "# Bar chart of sentiment distribution\n",
    "plt.figure(figsize=(8, 5))\n",
    "sns.countplot(data=df, x='is_there_an_emotion_directed_at_a_brand_or_product')\n",
    "plt.xlabel('Sentiment')\n",
    "plt.ylabel('Count')\n",
    "plt.title('Sentiment Distribution')\n",
    "plt.xticks(rotation=45)\n",
    "\n",
    "# Specify the data type using astype\n",
    "df['is_there_an_emotion_directed_at_a_brand_or_product'] = df['is_there_an_emotion_directed_at_a_brand_or_product'].astype('category')\n",
    "\n",
    "plt.show()\n"
   ]
  },
  {
   "cell_type": "markdown",
   "metadata": {},
   "source": [
    "The sentiment categories represent whether tweets express emotions directed at a brand or product. \"No emotion\" is the most frequent sentiment, indicating that many tweets in the dataset do not convey emotions related to a brand. \"Positive emotion\" is the second most common sentiment, followed by \"Negative emotion\". This suggests that most tweets are neutral or positive in sentiment, with fewer expressing negativity or uncertainty towards brands or products."
   ]
  },
  {
   "cell_type": "code",
   "execution_count": 38,
   "metadata": {},
   "outputs": [
    {
     "name": "stdout",
     "output_type": "stream",
     "text": [
      "[ 2.  1.  3. nan]\n"
     ]
    },
    {
     "data": {
      "text/html": [
       "<div>\n",
       "<style scoped>\n",
       "    .dataframe tbody tr th:only-of-type {\n",
       "        vertical-align: middle;\n",
       "    }\n",
       "\n",
       "    .dataframe tbody tr th {\n",
       "        vertical-align: top;\n",
       "    }\n",
       "\n",
       "    .dataframe thead th {\n",
       "        text-align: right;\n",
       "    }\n",
       "</style>\n",
       "<table border=\"1\" class=\"dataframe\">\n",
       "  <thead>\n",
       "    <tr style=\"text-align: right;\">\n",
       "      <th></th>\n",
       "      <th>tweet_text</th>\n",
       "      <th>emotion_in_tweet_is_directed_at</th>\n",
       "      <th>is_there_an_emotion_directed_at_a_brand_or_product</th>\n",
       "      <th>sentiment</th>\n",
       "    </tr>\n",
       "  </thead>\n",
       "  <tbody>\n",
       "    <tr>\n",
       "      <th>0</th>\n",
       "      <td>.@wesley83 I have a 3G iPhone. After 3 hrs twe...</td>\n",
       "      <td>iPhone</td>\n",
       "      <td>Negative emotion</td>\n",
       "      <td>2.0</td>\n",
       "    </tr>\n",
       "    <tr>\n",
       "      <th>1</th>\n",
       "      <td>@jessedee Know about @fludapp ? Awesome iPad/i...</td>\n",
       "      <td>iPad or iPhone App</td>\n",
       "      <td>Positive emotion</td>\n",
       "      <td>1.0</td>\n",
       "    </tr>\n",
       "    <tr>\n",
       "      <th>2</th>\n",
       "      <td>@swonderlin Can not wait for #iPad 2 also. The...</td>\n",
       "      <td>iPad</td>\n",
       "      <td>Positive emotion</td>\n",
       "      <td>1.0</td>\n",
       "    </tr>\n",
       "    <tr>\n",
       "      <th>3</th>\n",
       "      <td>@sxsw I hope this year's festival isn't as cra...</td>\n",
       "      <td>iPad or iPhone App</td>\n",
       "      <td>Negative emotion</td>\n",
       "      <td>2.0</td>\n",
       "    </tr>\n",
       "    <tr>\n",
       "      <th>4</th>\n",
       "      <td>@sxtxstate great stuff on Fri #SXSW: Marissa M...</td>\n",
       "      <td>Google</td>\n",
       "      <td>Positive emotion</td>\n",
       "      <td>1.0</td>\n",
       "    </tr>\n",
       "    <tr>\n",
       "      <th>...</th>\n",
       "      <td>...</td>\n",
       "      <td>...</td>\n",
       "      <td>...</td>\n",
       "      <td>...</td>\n",
       "    </tr>\n",
       "    <tr>\n",
       "      <th>9088</th>\n",
       "      <td>Ipad everywhere. #SXSW {link}</td>\n",
       "      <td>iPad</td>\n",
       "      <td>Positive emotion</td>\n",
       "      <td>1.0</td>\n",
       "    </tr>\n",
       "    <tr>\n",
       "      <th>9089</th>\n",
       "      <td>Wave, buzz... RT @mention We interrupt your re...</td>\n",
       "      <td></td>\n",
       "      <td>No emotion toward brand or product</td>\n",
       "      <td>3.0</td>\n",
       "    </tr>\n",
       "    <tr>\n",
       "      <th>9090</th>\n",
       "      <td>Google's Zeiger, a physician never reported po...</td>\n",
       "      <td></td>\n",
       "      <td>No emotion toward brand or product</td>\n",
       "      <td>3.0</td>\n",
       "    </tr>\n",
       "    <tr>\n",
       "      <th>9091</th>\n",
       "      <td>Some Verizon iPhone customers complained their...</td>\n",
       "      <td></td>\n",
       "      <td>No emotion toward brand or product</td>\n",
       "      <td>3.0</td>\n",
       "    </tr>\n",
       "    <tr>\n",
       "      <th>9092</th>\n",
       "      <td>Ï¡Ïàü_ÊÎÒ£Áââ_£â_ÛâRT @...</td>\n",
       "      <td></td>\n",
       "      <td>No emotion toward brand or product</td>\n",
       "      <td>3.0</td>\n",
       "    </tr>\n",
       "  </tbody>\n",
       "</table>\n",
       "<p>9093 rows × 4 columns</p>\n",
       "</div>"
      ],
      "text/plain": [
       "                                             tweet_text  \\\n",
       "0     .@wesley83 I have a 3G iPhone. After 3 hrs twe...   \n",
       "1     @jessedee Know about @fludapp ? Awesome iPad/i...   \n",
       "2     @swonderlin Can not wait for #iPad 2 also. The...   \n",
       "3     @sxsw I hope this year's festival isn't as cra...   \n",
       "4     @sxtxstate great stuff on Fri #SXSW: Marissa M...   \n",
       "...                                                 ...   \n",
       "9088                      Ipad everywhere. #SXSW {link}   \n",
       "9089  Wave, buzz... RT @mention We interrupt your re...   \n",
       "9090  Google's Zeiger, a physician never reported po...   \n",
       "9091  Some Verizon iPhone customers complained their...   \n",
       "9092  Ï¡Ïàü_ÊÎÒ£Áââ_£â_ÛâRT @...   \n",
       "\n",
       "     emotion_in_tweet_is_directed_at  \\\n",
       "0                             iPhone   \n",
       "1                 iPad or iPhone App   \n",
       "2                               iPad   \n",
       "3                 iPad or iPhone App   \n",
       "4                             Google   \n",
       "...                              ...   \n",
       "9088                            iPad   \n",
       "9089                                   \n",
       "9090                                   \n",
       "9091                                   \n",
       "9092                                   \n",
       "\n",
       "     is_there_an_emotion_directed_at_a_brand_or_product  sentiment  \n",
       "0                                      Negative emotion        2.0  \n",
       "1                                      Positive emotion        1.0  \n",
       "2                                      Positive emotion        1.0  \n",
       "3                                      Negative emotion        2.0  \n",
       "4                                      Positive emotion        1.0  \n",
       "...                                                 ...        ...  \n",
       "9088                                   Positive emotion        1.0  \n",
       "9089                 No emotion toward brand or product        3.0  \n",
       "9090                 No emotion toward brand or product        3.0  \n",
       "9091                 No emotion toward brand or product        3.0  \n",
       "9092                 No emotion toward brand or product        3.0  \n",
       "\n",
       "[9093 rows x 4 columns]"
      ]
     },
     "execution_count": 38,
     "metadata": {},
     "output_type": "execute_result"
    }
   ],
   "source": [
    "# Mapping for sentiment labels\n",
    "sentiment_mapping = {\n",
    "    'Positive emotion': 1,\n",
    "    'Negative emotion': 2,\n",
    "    'No emotion toward brand or product': 3\n",
    "}\n",
    "\n",
    "# Create a new column with numeric values\n",
    "df['sentiment'] = df['is_there_an_emotion_directed_at_a_brand_or_product'].map(sentiment_mapping)\n",
    "\n",
    "# Verify that there are only three unique values in the new 'sentiment' column\n",
    "unique_values = df['sentiment'].unique()\n",
    "print(unique_values)\n",
    "df\n"
   ]
  },
  {
   "cell_type": "markdown",
   "metadata": {},
   "source": [
    "##### SENTIMENT VALUES \n",
    "**1 = Positive emotion**\n",
    "**2 = Negative emotion**\n",
    "**3 = No emotion toward brand or product**"
   ]
  },
  {
   "cell_type": "code",
   "execution_count": 39,
   "metadata": {},
   "outputs": [],
   "source": [
    "# Drop rows with NaN values in the 'sentiment' column\n",
    "df.dropna(subset=['sentiment'], inplace=True)"
   ]
  },
  {
   "cell_type": "code",
   "execution_count": 40,
   "metadata": {},
   "outputs": [],
   "source": [
    "df['is_there_an_emotion_directed_at_a_brand_or_product'].fillna('No emotion toward brand or product', inplace=True)\n"
   ]
  },
  {
   "cell_type": "markdown",
   "metadata": {},
   "source": [
    "## Text Preprocessing\n",
    "\n",
    "To prepare the text data for analysis, we performed the following preprocessing steps on the 'tweet_text' column:\n",
    "\n",
    "1. Tokenization: Splitting text into words or tokens.\n",
    "2. Lowercasing: Converting all text to lowercase to ensure consistency.\n",
    "3. Punctuation Removal: Removing punctuation and special characters.\n",
    "4. Stopword Removal: Removing common stopwords from the English language.\n",
    "5. Number Removal: Removing numeric tokens.\n",
    "6. Stemming/Lemmatizing: Reducing inflected forms of a word to their root form.\n",
    "7. TF-IDF (Term Frequency - Inverse Document Frequency). To determine how relevant a word is to a document."
   ]
  },
  {
   "cell_type": "code",
   "execution_count": 41,
   "metadata": {},
   "outputs": [
    {
     "data": {
      "text/html": [
       "<div>\n",
       "<style scoped>\n",
       "    .dataframe tbody tr th:only-of-type {\n",
       "        vertical-align: middle;\n",
       "    }\n",
       "\n",
       "    .dataframe tbody tr th {\n",
       "        vertical-align: top;\n",
       "    }\n",
       "\n",
       "    .dataframe thead th {\n",
       "        text-align: right;\n",
       "    }\n",
       "</style>\n",
       "<table border=\"1\" class=\"dataframe\">\n",
       "  <thead>\n",
       "    <tr style=\"text-align: right;\">\n",
       "      <th></th>\n",
       "      <th>tweet_text</th>\n",
       "      <th>cleaned_text</th>\n",
       "    </tr>\n",
       "  </thead>\n",
       "  <tbody>\n",
       "    <tr>\n",
       "      <th>0</th>\n",
       "      <td>.@wesley83 I have a 3G iPhone. After 3 hrs twe...</td>\n",
       "      <td>[, , wesley, g, iphone, , , hrs, tweeting, , r...</td>\n",
       "    </tr>\n",
       "    <tr>\n",
       "      <th>1</th>\n",
       "      <td>@jessedee Know about @fludapp ? Awesome iPad/i...</td>\n",
       "      <td>[, jessedee, know, , fludapp, , awesome, ipadi...</td>\n",
       "    </tr>\n",
       "    <tr>\n",
       "      <th>2</th>\n",
       "      <td>@swonderlin Can not wait for #iPad 2 also. The...</td>\n",
       "      <td>[, swonderlin, wait, , ipad, , also, , sale, ,...</td>\n",
       "    </tr>\n",
       "    <tr>\n",
       "      <th>3</th>\n",
       "      <td>@sxsw I hope this year's festival isn't as cra...</td>\n",
       "      <td>[, sxsw, hope, year, festival, nt, crashy, yea...</td>\n",
       "    </tr>\n",
       "    <tr>\n",
       "      <th>4</th>\n",
       "      <td>@sxtxstate great stuff on Fri #SXSW: Marissa M...</td>\n",
       "      <td>[, sxtxstate, great, stuff, fri, , sxsw, , mar...</td>\n",
       "    </tr>\n",
       "  </tbody>\n",
       "</table>\n",
       "</div>"
      ],
      "text/plain": [
       "                                          tweet_text  \\\n",
       "0  .@wesley83 I have a 3G iPhone. After 3 hrs twe...   \n",
       "1  @jessedee Know about @fludapp ? Awesome iPad/i...   \n",
       "2  @swonderlin Can not wait for #iPad 2 also. The...   \n",
       "3  @sxsw I hope this year's festival isn't as cra...   \n",
       "4  @sxtxstate great stuff on Fri #SXSW: Marissa M...   \n",
       "\n",
       "                                        cleaned_text  \n",
       "0  [, , wesley, g, iphone, , , hrs, tweeting, , r...  \n",
       "1  [, jessedee, know, , fludapp, , awesome, ipadi...  \n",
       "2  [, swonderlin, wait, , ipad, , also, , sale, ,...  \n",
       "3  [, sxsw, hope, year, festival, nt, crashy, yea...  \n",
       "4  [, sxtxstate, great, stuff, fri, , sxsw, , mar...  "
      ]
     },
     "execution_count": 41,
     "metadata": {},
     "output_type": "execute_result"
    }
   ],
   "source": [
    "# Text preprocessing\n",
    "# Tokenization, lowercase, remove punctuation, and numbers\n",
    "\n",
    "# Define a function for text preprocessing\n",
    "def preprocess_text(text):\n",
    "    # Tokenization using NLTK's word_tokenize\n",
    "    tokens = word_tokenize(text)\n",
    "    \n",
    "    # Convert tokens to lowercase\n",
    "    tokens = [token.lower() for token in tokens]\n",
    "    \n",
    "    # Remove punctuation and special characters using regex\n",
    "    tokens = [re.sub(r'[^a-zA-Z]', '', token) for token in tokens]\n",
    "    \n",
    "    # Remove stopwords\n",
    "    stopwords_list = set(stopwords.words('english'))\n",
    "    tokens = [token for token in tokens if token not in stopwords_list]\n",
    "    \n",
    "    # Remove numbers\n",
    "    tokens = [token for token in tokens if not token.isnumeric()]\n",
    "    \n",
    "    return tokens\n",
    "\n",
    "# Apply text preprocessing to the 'tweet_text' column\n",
    "df['cleaned_text'] = df['tweet_text'].apply(preprocess_text)\n",
    "\n",
    "# Display the cleaned text in the DataFrame\n",
    "df[['tweet_text', 'cleaned_text']].head()\n"
   ]
  },
  {
   "cell_type": "markdown",
   "metadata": {},
   "source": [
    "Lemmatization reduces words to their base forms, aiding analysis by grouping variants (e.g., \"hrs\" and \"hr\") into common forms for accurate insights and simplifying text complexity."
   ]
  },
  {
   "cell_type": "code",
   "execution_count": 42,
   "metadata": {},
   "outputs": [],
   "source": [
    "# Create a WordNetLemmatizer object\n",
    "lemmatizer = WordNetLemmatizer()\n",
    "df['lemmatized_text'] = df['cleaned_text'].apply(lambda words: [lemmatizer.lemmatize(word) for word in words])"
   ]
  },
  {
   "cell_type": "markdown",
   "metadata": {},
   "source": [
    "# Generate corpus statistics"
   ]
  },
  {
   "cell_type": "code",
   "execution_count": 43,
   "metadata": {},
   "outputs": [
    {
     "data": {
      "text/plain": [
       "[('', 0.35237341018434715),\n",
       " ('sxsw', 0.05638188920116229),\n",
       " ('mention', 0.04179964750154813),\n",
       " ('link', 0.025395369885199828),\n",
       " ('rt', 0.017470109083980376),\n",
       " ('ipad', 0.017184299528414233),\n",
       " ('google', 0.015225313199637975),\n",
       " ('apple', 0.013546182060686895),\n",
       " ('quot', 0.009866384032772828),\n",
       " ('iphone', 0.0089791835373696),\n",
       " ('store', 0.008681465250321535),\n",
       " ('new', 0.006436669365979136),\n",
       " ('austin', 0.0056447387224312865),\n",
       " ('amp', 0.004965941027961701),\n",
       " ('app', 0.004846853713142476),\n",
       " ('circles', 0.0039060639260705948),\n",
       " ('launch', 0.0038524746344019436),\n",
       " ('social', 0.0037929309769923307),\n",
       " ('popup', 0.003691706759395989),\n",
       " ('today', 0.003423760301052732),\n",
       " ('android', 0.0034118515695708094),\n",
       " ('nt', 0.002786643166769876),\n",
       " ('network', 0.002733053875101224),\n",
       " ('via', 0.0025484685371314248),\n",
       " ('line', 0.0023698375649025866),\n",
       " ('get', 0.002334111370456819),\n",
       " ('free', 0.0023043395417520125),\n",
       " ('called', 0.0021078454723002906),\n",
       " ('party', 0.002072119277854523),\n",
       " ('sxswi', 0.002030438717667794),\n",
       " ('mobile', 0.0020125756204449102),\n",
       " ('one', 0.0018279902824751108),\n",
       " ('major', 0.0018041728195112656),\n",
       " ('like', 0.0016731767732101176),\n",
       " ('time', 0.0016076787500595437),\n",
       " ('temporary', 0.0015600438241318536),\n",
       " ('opening', 0.001524317629686086),\n",
       " ('possibly', 0.0014290477778307056),\n",
       " ('day', 0.0013635497546801315),\n",
       " ('downtown', 0.0013397322917162865),\n",
       " ('people', 0.0013278235602343638),\n",
       " ('apps', 0.0013218691944934025),\n",
       " ('great', 0.0013159148287524413),\n",
       " ('see', 0.0012980517315295576),\n",
       " ('maps', 0.001292097365788596),\n",
       " ('mayer', 0.0012861430000476349),\n",
       " ('check', 0.0012861430000476349),\n",
       " ('going', 0.0012682799028247511),\n",
       " ('w', 0.0012563711713428286),\n",
       " ('open', 0.001244462439860906)]"
      ]
     },
     "execution_count": 43,
     "metadata": {},
     "output_type": "execute_result"
    }
   ],
   "source": [
    "# Calculate total word count\n",
    "total_word_count = df['cleaned_text'].apply(len).sum()\n",
    "\n",
    "# Create frequency distribution of words\n",
    "all_words = [word for tokens in df['cleaned_text'] for word in tokens]\n",
    "freq_dist = FreqDist(all_words)\n",
    "\n",
    "# Calculate normalized word frequencies\n",
    "normalized_frequencies = [(word, freq / total_word_count) for word, freq in freq_dist.most_common(50)]\n",
    "\n",
    "# Display the vocabulary size and top 50 normalized word frequencies\n",
    "vocabulary_size = len(freq_dist)\n",
    "normalized_frequencies[:50]\n"
   ]
  },
  {
   "cell_type": "markdown",
   "metadata": {},
   "source": [
    "The corpus statistics is useful for identifying the most common words in the text and understanding their relative prevalence. The corpus likely contains tweets related to an event or topic, with frequent mentions of keywords like 'sxsw(event that the data was collected),' 'mention,' 'link,' 'rt,' 'ipad,' 'google,' 'apple,' 'iphone,' and others. This information can be valuable for sentiment analysis, topic modeling, and understanding the key themes and terms associated with the text."
   ]
  },
  {
   "cell_type": "code",
   "execution_count": 44,
   "metadata": {},
   "outputs": [
    {
     "name": "stdout",
     "output_type": "stream",
     "text": [
      "Vocabulary Size: 11137\n"
     ]
    }
   ],
   "source": [
    "# Convert the cleaned_text column to strings and then split\n",
    "tokenized_text = df['cleaned_text'].astype(str).str.split()\n",
    "\n",
    "# Calculate vocabulary size\n",
    "vocabulary_size = len(set(tokenized_text.sum()))\n",
    "print(\"Vocabulary Size:\", vocabulary_size)\n"
   ]
  },
  {
   "cell_type": "code",
   "execution_count": 45,
   "metadata": {},
   "outputs": [],
   "source": [
    "# Convert the lemmatized text from a list to a single string\n",
    "df['lemmatized_text'] = df['lemmatized_text'].apply(' '.join)\n",
    "\n",
    "# Initialize the TF-IDF vectorizer\n",
    "tfidf_vectorizer = TfidfVectorizer()\n",
    "\n",
    "# Fit and transform the text data\n",
    "tfidf_matrix = tfidf_vectorizer.fit_transform(df['lemmatized_text'])\n",
    "\n",
    "# Convert the TF-IDF matrix to a DataFrame \n",
    "tfidf_df = pd.DataFrame(tfidf_matrix.toarray(), columns=tfidf_vectorizer.get_feature_names_out())\n"
   ]
  },
  {
   "cell_type": "code",
   "execution_count": 46,
   "metadata": {},
   "outputs": [
    {
     "data": {
      "text/plain": [
       "wesley        0.401400\n",
       "riseaustin    0.384094\n",
       "plugin        0.362293\n",
       "hr            0.347932\n",
       "station       0.321512\n",
       "upgrade       0.318349\n",
       "dead          0.305315\n",
       "tweeting      0.291928\n",
       "need          0.199447\n",
       "iphone        0.119458\n",
       "Name: 0, dtype: float64"
      ]
     },
     "execution_count": 46,
     "metadata": {},
     "output_type": "execute_result"
    }
   ],
   "source": [
    "# Checking top terms in tfidf_df\n",
    "document_tfidf = tfidf_df.iloc[0]\n",
    "top_terms = document_tfidf.sort_values(ascending=False).head(10)\n",
    "top_terms\n"
   ]
  },
  {
   "cell_type": "markdown",
   "metadata": {},
   "source": [
    "As you can see Wesley is the most significant word thus meaning he is the most important influencer contributing in the war between Android and MacOS products. Plugin and hr also have high tfidf values which is the topic around faster battery consumption among Apple products. Dead signifies the battery level completing faster than for Android."
   ]
  },
  {
   "cell_type": "markdown",
   "metadata": {},
   "source": [
    "Now lets filter the dataframe to gain further insights on the Apple and Android(google) products."
   ]
  },
  {
   "cell_type": "code",
   "execution_count": 47,
   "metadata": {},
   "outputs": [],
   "source": [
    "# Filter the DataFrame to separate data related to Apple and Google products\n",
    "apple_data = df[df['emotion_in_tweet_is_directed_at'].isin(['Apple','iPhone', 'iPad or iPhone App', 'iPad', 'Other Apple product or service'])]\n",
    "google_data = df[df['emotion_in_tweet_is_directed_at'].isin(['Android' ,'Google','Android App', 'Other Google product or service'])]"
   ]
  },
  {
   "cell_type": "code",
   "execution_count": 49,
   "metadata": {},
   "outputs": [
    {
     "data": {
      "image/png": "[encoded data removed]",
      "text/plain": [
       "<Figure size 1500x600 with 2 Axes>"
      ]
     },
     "metadata": {},
     "output_type": "display_data"
    }
   ],
   "source": [
    "# Group data by the index (or any other column that represents tweet order)\n",
    "apple_daily_counts = apple_data.index.value_counts().sort_index()\n",
    "google_daily_counts = google_data.index.value_counts().sort_index()\n",
    "\n",
    "# Create subplots with separate bar graphs\n",
    "fig, axes = plt.subplots(nrows=1, ncols=2, figsize=(15, 6))\n",
    "\n",
    "# Bar graph for Apple products\n",
    "axes[0].bar(apple_daily_counts.index, apple_daily_counts.values, label='Apple', color='b', alpha=0.7)\n",
    "axes[0].set_title('Apple Daily Tweet Counts')\n",
    "axes[0].set_xlabel('Day')\n",
    "axes[0].set_ylabel('Number of Tweets')\n",
    "axes[0].grid(axis='y')\n",
    "\n",
    "# Bar graph for Google products\n",
    "axes[1].bar(google_daily_counts.index, google_daily_counts.values, label='Google', color='g', alpha=0.7)\n",
    "axes[1].set_title('Google Daily Tweet Counts')\n",
    "axes[1].set_xlabel('Day')\n",
    "axes[1].set_ylabel('Number of Tweets')\n",
    "axes[1].grid(axis='y')\n",
    "\n",
    "plt.tight_layout()\n",
    "plt.show()\n"
   ]
  },
  {
   "cell_type": "markdown",
   "metadata": {},
   "source": [
    "## Analysis of Tweet Engagements: Apple vs. Google Products\n",
    "\n",
    "In the analysis of tweet engagements related to Apple and Google products, it is evident that Apple products consistently receive more engagements compared to Google products. There are several key factors contributing to this difference in engagement levels.\n",
    "\n",
    "**1. Brand Loyalty and User Engagement**\n",
    "Apple has a strong and dedicated user base with a loyal customer following. Apple users are often highly engaged with the brand, its products, and the ecosystem it offers. This engagement results in users frequently sharing their experiences and opinions on social media platforms, including Twitter.\n",
    "\n",
    "**2. Product Popularity**\n",
    "Apple's product lineup, including iPhones, iPads, and MacBooks, enjoys immense popularity worldwide. These products generate substantial buzz and discussions on social media, naturally leading to higher tweet engagements.\n",
    "\n",
    "**3. Product Launches and Events**\n",
    "Apple regularly hosts product launches and events where they unveil new products, software updates, and innovations. These events generate significant excitement and discussions on Twitter, contributing to increased engagements during such periods.\n",
    "\n",
    "**4. User-Generated Content**\n",
    "Apple users are more likely to create user-generated content such as app reviews, unboxing videos, and tutorials, which they often share on social media. This content sparks conversations and interactions among users, resulting in higher engagement.\n",
    "\n",
    "**5. Content Quality and Shareability**\n",
    "Apple products tend to have a strong aesthetic appeal and innovative features that are visually appealing and shareable. Users are more inclined to share content related to Apple products, further amplifying engagements.\n",
    "\n",
    "**6. Google's Diverse Product Portfolio**\n",
    "Google offers a wide range of products and services, including search, Android, Google Maps, and more. While these products are widely used, they may not generate as much buzz individually as Apple's flagship products.\n",
    "\n",
    "**7. Search Engine vs. Consumer Electronics**\n",
    "Android's core product, the search engine(Google), primarily facilitates information retrieval, while Apple's products are consumer electronics that are more likely to evoke emotional responses and discussions.\n",
    "\n",
    "In conclusion, the higher tweet engagements related to Apple products, as observed in our analysis, can be attributed to various factors such as brand loyalty, product popularity, events, user-generated content, and the shareability of content. These insights align with our broader goals, including brand competitor analysis, product launch evaluation, and influencer engagement strategies. While both Apple and Google products have their strengths, Apple's consumer-focused approach and strong user community position it as a standout in terms of social media engagement, which is vital for our marketing and brand strategies.."
   ]
  },
  {
   "cell_type": "code",
   "execution_count": 50,
   "metadata": {},
   "outputs": [
    {
     "name": "stderr",
     "output_type": "stream",
     "text": [
      "C:\\Users\\STREAMING\\AppData\\Local\\Temp\\ipykernel_11136\\3699453844.py:12: SettingWithCopyWarning: \n",
      "A value is trying to be set on a copy of a slice from a DataFrame.\n",
      "Try using .loc[row_indexer,col_indexer] = value instead\n",
      "\n",
      "See the caveats in the documentation: https://pandas.pydata.org/pandas-docs/stable/user_guide/indexing.html#returning-a-view-versus-a-copy\n",
      "  apple_data.loc[:, 'tokens'] = apple_data['cleaned_text'].apply(preprocess_text)\n",
      "C:\\Users\\STREAMING\\AppData\\Local\\Temp\\ipykernel_11136\\3699453844.py:13: SettingWithCopyWarning: \n",
      "A value is trying to be set on a copy of a slice from a DataFrame.\n",
      "Try using .loc[row_indexer,col_indexer] = value instead\n",
      "\n",
      "See the caveats in the documentation: https://pandas.pydata.org/pandas-docs/stable/user_guide/indexing.html#returning-a-view-versus-a-copy\n",
      "  google_data.loc[:, 'tokens'] = google_data['cleaned_text'].apply(preprocess_text)\n"
     ]
    }
   ],
   "source": [
    "# Define a function for text preprocessing\n",
    "def preprocess_text(tokens):\n",
    "    # Convert tokens to lowercase, remove special characters, numbers, stopwords\n",
    "    tokens = [token.lower() for token in tokens if token.isalpha()]\n",
    "    tokens = [re.sub(r'[^a-zA-Z]', '', token) for token in tokens]\n",
    "    stopwords_list = set(stopwords.words('english'))\n",
    "    tokens = [token for token in tokens if token not in stopwords_list]\n",
    "    \n",
    "    return tokens\n",
    "\n",
    "# Apply preprocessing to Apple and Google data\n",
    "apple_data.loc[:, 'tokens'] = apple_data['cleaned_text'].apply(preprocess_text)\n",
    "google_data.loc[:, 'tokens'] = google_data['cleaned_text'].apply(preprocess_text)"
   ]
  },
  {
   "cell_type": "code",
   "execution_count": 51,
   "metadata": {},
   "outputs": [
    {
     "name": "stdout",
     "output_type": "stream",
     "text": [
      "Corpus Statistics - Apple:\n",
      "Total Words: 2402\n",
      "Unique Words: 7\n",
      "\n",
      "Corpus Statistics - Google:\n",
      "Total Words: 880\n",
      "Unique Words: 7\n"
     ]
    }
   ],
   "source": [
    "# Calculate corpus statistics\n",
    "apple_total_words = len(apple_data)\n",
    "google_total_words = len(google_data)\n",
    "apple_unique_words = len(set(apple_data))\n",
    "google_unique_words = len(set(google_data))\n",
    "\n",
    "# Compare statistics\n",
    "print(\"Corpus Statistics - Apple:\")\n",
    "print(\"Total Words:\", apple_total_words)\n",
    "print(\"Unique Words:\", apple_unique_words)\n",
    "\n",
    "print(\"\\nCorpus Statistics - Google:\")\n",
    "print(\"Total Words:\", google_total_words)\n",
    "print(\"Unique Words:\", google_unique_words)"
   ]
  },
  {
   "cell_type": "markdown",
   "metadata": {},
   "source": [
    "The corpus statistics for Apple indicate that there are 2,402 words in the dataset, with only 7 unique words. Similarly, the Google dataset consists of 880 words with 7 unique words. This suggests limited vocabulary diversity in both datasets."
   ]
  },
  {
   "cell_type": "code",
   "execution_count": 52,
   "metadata": {},
   "outputs": [
    {
     "data": {
      "text/plain": [
       "0         wesley g iphone   hr tweeting  riseaustin  d...\n",
       "1        jessedee know  fludapp  awesome ipadiphone ap...\n",
       "2                swonderlin wait  ipad  also  sale  sxsw \n",
       "3        sxsw hope year festival nt crashy year iphone...\n",
       "4        sxtxstate great stuff fri  sxsw  marissa maye...\n",
       "                              ...                        \n",
       "9088                        ipad everywhere   sxsw  link \n",
       "9089    wave  buzz  rt  mention interrupt regularly sc...\n",
       "9090    google zeiger  physician never reported potent...\n",
       "9091    verizon iphone customer complained time fell b...\n",
       "9092    rt  mention google test checkin offer  sxsw  l...\n",
       "Name: lemmatized_text, Length: 8937, dtype: object"
      ]
     },
     "execution_count": 52,
     "metadata": {},
     "output_type": "execute_result"
    }
   ],
   "source": [
    "df['lemmatized_text']"
   ]
  },
  {
   "cell_type": "code",
   "execution_count": 70,
   "metadata": {},
   "outputs": [
    {
     "name": "stdout",
     "output_type": "stream",
     "text": [
      "0       0.0\n",
      "1       0.0\n",
      "2       0.0\n",
      "3       0.0\n",
      "4       0.0\n",
      "       ... \n",
      "8932    0.0\n",
      "8933    0.0\n",
      "8934    0.0\n",
      "8935    0.0\n",
      "8936    0.0\n",
      "Name: apple, Length: 8937, dtype: float64\n"
     ]
    }
   ],
   "source": [
    "# Explore the TF-IDF values for a specific term\n",
    "term_tfidf = tfidf_df[\"apple\"]\n",
    "print(term_tfidf)\n"
   ]
  },
  {
   "cell_type": "code",
   "execution_count": 54,
   "metadata": {},
   "outputs": [
    {
     "name": "stdout",
     "output_type": "stream",
     "text": [
      "0       0.000000\n",
      "1       0.000000\n",
      "2       0.000000\n",
      "3       0.000000\n",
      "4       0.090465\n",
      "          ...   \n",
      "8932    0.000000\n",
      "8933    0.115985\n",
      "8934    0.067333\n",
      "8935    0.000000\n",
      "8936    0.191708\n",
      "Name: google, Length: 8937, dtype: float64\n"
     ]
    }
   ],
   "source": [
    "term_tfidf = tfidf_df[\"google\"]\n",
    "print(term_tfidf)\n"
   ]
  },
  {
   "cell_type": "code",
   "execution_count": 55,
   "metadata": {},
   "outputs": [
    {
     "data": {
      "image/png": "[encoded data removed]",
      "text/plain": [
       "<Figure size 1200x600 with 1 Axes>"
      ]
     },
     "metadata": {},
     "output_type": "display_data"
    }
   ],
   "source": [
    "# Tokenize the lemmatized text and create a list of words\n",
    "all_words = [word for sentence in df['lemmatized_text'] for word in word_tokenize(sentence)]\n",
    "\n",
    "# Create a frequency distribution for the words\n",
    "freq_dist = FreqDist(all_words)\n",
    "\n",
    "# Get the most common words and their frequencies\n",
    "common_words = freq_dist.most_common(20)\n",
    "\n",
    "# Extract words and frequencies for plotting\n",
    "words, frequencies = zip(*common_words)\n",
    "\n",
    "# Create a bar chart to visualize the most common words\n",
    "plt.figure(figsize=(12, 6))\n",
    "plt.bar(words, frequencies)\n",
    "plt.title('Most Common Words in Lemmatized Text')\n",
    "plt.xlabel('Words')\n",
    "plt.ylabel('Frequency')\n",
    "plt.xticks(rotation=45)\n",
    "plt.tight_layout()\n",
    "plt.show()\n"
   ]
  },
  {
   "cell_type": "markdown",
   "metadata": {},
   "source": [
    "SXSW is the most common word attributing to the event where the data was collected. Mention, link, rt are common lingo for twitter platform. We can see that apple products have more engagement than android  due to high frequency values for 'ipad, apple, iphone' thus proving if you stock apple products you may have a wide range of customers that are aware of the product."
   ]
  },
  {
   "cell_type": "markdown",
   "metadata": {},
   "source": [
    "## Model Training\n",
    "### Baseline Model - Logistic regression"
   ]
  },
  {
   "cell_type": "markdown",
   "metadata": {},
   "source": [
    " ### Logistic regression is a simple and interpretable model suitable for binary classification problems. It's often a good choice when the relationship between features and the target variable is relatively linear. It's efficient and has low computational requirements, making it suitable for deployment in resource-constrained environments."
   ]
  },
  {
   "cell_type": "code",
   "execution_count": 56,
   "metadata": {},
   "outputs": [],
   "source": [
    "# Select the feature column and the target column\n",
    "X = tfidf_df \n",
    "y = df['sentiment']\n",
    "\n",
    "# Split the data into training and testing sets (e.g., 70% training, 30% testing)\n",
    "X_train, X_test, y_train, y_test = train_test_split(X, y, test_size=0.3, random_state=42)"
   ]
  },
  {
   "cell_type": "code",
   "execution_count": 57,
   "metadata": {},
   "outputs": [],
   "source": [
    "# # Concatenate all lemmatized texts into a single string\n",
    "# text_corpus = ' '.join(df['lemmatized_text'])\n",
    "\n",
    "# # Generate a word cloud\n",
    "# wordcloud = WordCloud(width=800, height=400, max_words=200, background_color='white').generate(text_corpus)\n",
    "\n",
    "# # Display the word cloud\n",
    "# plt.figure(figsize=(10, 5))\n",
    "# plt.imshow(wordcloud, interpolation='bilinear')\n",
    "# plt.axis('off')\n",
    "# # plt.title('Word Cloud of Tweet Text')\n",
    "# plt.show()"
   ]
  },
  {
   "cell_type": "code",
   "execution_count": 58,
   "metadata": {},
   "outputs": [
    {
     "name": "stdout",
     "output_type": "stream",
     "text": [
      "Logistic Regression Classifier:\n",
      "              precision    recall  f1-score   support\n",
      "\n",
      "         1.0       0.62      0.43      0.51       866\n",
      "         2.0       0.56      0.05      0.09       177\n",
      "         3.0       0.70      0.88      0.78      1639\n",
      "\n",
      "    accuracy                           0.68      2682\n",
      "   macro avg       0.63      0.46      0.46      2682\n",
      "weighted avg       0.67      0.68      0.65      2682\n",
      "\n"
     ]
    }
   ],
   "source": [
    "# Create a Logistic Regression classifier\n",
    "logistic_classifier = LogisticRegression(max_iter=1000, random_state=42)\n",
    "\n",
    "# Train the classifier\n",
    "logistic_classifier.fit(X_train, y_train)\n",
    "\n",
    "# Predictions on the test data\n",
    "y_pred_logistic = logistic_classifier.predict(X_test)\n",
    "\n",
    "# Evaluate the Logistic Regression classifier\n",
    "classification_rep_logistic = classification_report(y_test, y_pred_logistic)\n",
    "print(\"Logistic Regression Classifier:\")\n",
    "print(classification_rep_logistic)"
   ]
  },
  {
   "cell_type": "markdown",
   "metadata": {},
   "source": [
    "The Logistic Regression Classifier is used to categorize data into different classes. In this case, it has been applied to classify text sentiment into three categories: 1.0, 2.0, and 3.0.\n",
    "\n",
    "Precision: Measures how accurate the positive predictions are. For class 1.0, it correctly identifies 62% of the positive cases, while for class 2.0 and 3.0, the accuracy is lower.\n",
    "\n",
    "Recall: Reflects the model's ability to find all the positive instances. Class 3.0 has the highest recall at 88%, indicating that it's good at identifying this sentiment. However, class 2.0 has a low recall score, suggesting that it misses many of these instances.\n",
    "\n",
    "F1-Score: Combines precision and recall into a single metric. Class 3.0 has the highest F1-score (78%), indicating a good balance between precision and recall. Class 2.0 has a lower F1-score, highlighting its classification challenges.\n",
    "\n",
    "Accuracy: Shows the overall correctness of predictions. The model is 68% accurate in classifying sentiment."
   ]
  },
  {
   "cell_type": "markdown",
   "metadata": {},
   "source": [
    "### 2. RandomForestClassifier\n",
    "\n",
    "Random Forest is efficient for Twitter NLP analysis due to its ensemble nature, handling text features well. It can capture complex patterns and reduce overfitting while providing feature importance insights."
   ]
  },
  {
   "cell_type": "code",
   "execution_count": 59,
   "metadata": {},
   "outputs": [
    {
     "data": {
      "text/html": [
       "<style>#sk-container-id-1 {color: black;}#sk-container-id-1 pre{padding: 0;}#sk-container-id-1 div.sk-toggleable {background-color: white;}#sk-container-id-1 label.sk-toggleable__label {cursor: pointer;display: block;width: 100%;margin-bottom: 0;padding: 0.3em;box-sizing: border-box;text-align: center;}#sk-container-id-1 label.sk-toggleable__label-arrow:before {content: \"▸\";float: left;margin-right: 0.25em;color: #696969;}#sk-container-id-1 label.sk-toggleable__label-arrow:hover:before {color: black;}#sk-container-id-1 div.sk-estimator:hover label.sk-toggleable__label-arrow:before {color: black;}#sk-container-id-1 div.sk-toggleable__content {max-height: 0;max-width: 0;overflow: hidden;text-align: left;background-color: #f0f8ff;}#sk-container-id-1 div.sk-toggleable__content pre {margin: 0.2em;color: black;border-radius: 0.25em;background-color: #f0f8ff;}#sk-container-id-1 input.sk-toggleable__control:checked~div.sk-toggleable__content {max-height: 200px;max-width: 100%;overflow: auto;}#sk-container-id-1 input.sk-toggleable__control:checked~label.sk-toggleable__label-arrow:before {content: \"▾\";}#sk-container-id-1 div.sk-estimator input.sk-toggleable__control:checked~label.sk-toggleable__label {background-color: #d4ebff;}#sk-container-id-1 div.sk-label input.sk-toggleable__control:checked~label.sk-toggleable__label {background-color: #d4ebff;}#sk-container-id-1 input.sk-hidden--visually {border: 0;clip: rect(1px 1px 1px 1px);clip: rect(1px, 1px, 1px, 1px);height: 1px;margin: -1px;overflow: hidden;padding: 0;position: absolute;width: 1px;}#sk-container-id-1 div.sk-estimator {font-family: monospace;background-color: #f0f8ff;border: 1px dotted black;border-radius: 0.25em;box-sizing: border-box;margin-bottom: 0.5em;}#sk-container-id-1 div.sk-estimator:hover {background-color: #d4ebff;}#sk-container-id-1 div.sk-parallel-item::after {content: \"\";width: 100%;border-bottom: 1px solid gray;flex-grow: 1;}#sk-container-id-1 div.sk-label:hover label.sk-toggleable__label {background-color: #d4ebff;}#sk-container-id-1 div.sk-serial::before {content: \"\";position: absolute;border-left: 1px solid gray;box-sizing: border-box;top: 0;bottom: 0;left: 50%;z-index: 0;}#sk-container-id-1 div.sk-serial {display: flex;flex-direction: column;align-items: center;background-color: white;padding-right: 0.2em;padding-left: 0.2em;position: relative;}#sk-container-id-1 div.sk-item {position: relative;z-index: 1;}#sk-container-id-1 div.sk-parallel {display: flex;align-items: stretch;justify-content: center;background-color: white;position: relative;}#sk-container-id-1 div.sk-item::before, #sk-container-id-1 div.sk-parallel-item::before {content: \"\";position: absolute;border-left: 1px solid gray;box-sizing: border-box;top: 0;bottom: 0;left: 50%;z-index: -1;}#sk-container-id-1 div.sk-parallel-item {display: flex;flex-direction: column;z-index: 1;position: relative;background-color: white;}#sk-container-id-1 div.sk-parallel-item:first-child::after {align-self: flex-end;width: 50%;}#sk-container-id-1 div.sk-parallel-item:last-child::after {align-self: flex-start;width: 50%;}#sk-container-id-1 div.sk-parallel-item:only-child::after {width: 0;}#sk-container-id-1 div.sk-dashed-wrapped {border: 1px dashed gray;margin: 0 0.4em 0.5em 0.4em;box-sizing: border-box;padding-bottom: 0.4em;background-color: white;}#sk-container-id-1 div.sk-label label {font-family: monospace;font-weight: bold;display: inline-block;line-height: 1.2em;}#sk-container-id-1 div.sk-label-container {text-align: center;}#sk-container-id-1 div.sk-container {/* jupyter's `normalize.less` sets `[hidden] { display: none; }` but bootstrap.min.css set `[hidden] { display: none !important; }` so we also need the `!important` here to be able to override the default hidden behavior on the sphinx rendered scikit-learn.org. See: https://github.com/scikit-learn/scikit-learn/issues/21755 */display: inline-block !important;position: relative;}#sk-container-id-1 div.sk-text-repr-fallback {display: none;}</style><div id=\"sk-container-id-1\" class=\"sk-top-container\"><div class=\"sk-text-repr-fallback\"><pre>RandomForestClassifier()</pre><b>In a Jupyter environment, please rerun this cell to show the HTML representation or trust the notebook. <br />On GitHub, the HTML representation is unable to render, please try loading this page with nbviewer.org.</b></div><div class=\"sk-container\" hidden><div class=\"sk-item\"><div class=\"sk-estimator sk-toggleable\"><input class=\"sk-toggleable__control sk-hidden--visually\" id=\"sk-estimator-id-1\" type=\"checkbox\" checked><label for=\"sk-estimator-id-1\" class=\"sk-toggleable__label sk-toggleable__label-arrow\">RandomForestClassifier</label><div class=\"sk-toggleable__content\"><pre>RandomForestClassifier()</pre></div></div></div></div></div>"
      ],
      "text/plain": [
       "RandomForestClassifier()"
      ]
     },
     "execution_count": 59,
     "metadata": {},
     "output_type": "execute_result"
    }
   ],
   "source": [
    "# Initialize the classifier \n",
    "clf = RandomForestClassifier()\n",
    "\n",
    "# Fit the classifier to the training data\n",
    "clf.fit(X_train, y_train)\n"
   ]
  },
  {
   "cell_type": "code",
   "execution_count": 60,
   "metadata": {},
   "outputs": [
    {
     "name": "stdout",
     "output_type": "stream",
     "text": [
      "Accuracy: 0.68\n",
      "Classification Report:\n",
      "              precision    recall  f1-score   support\n",
      "\n",
      "         1.0       0.64      0.41      0.50       866\n",
      "         2.0       0.65      0.18      0.28       177\n",
      "         3.0       0.70      0.88      0.78      1639\n",
      "\n",
      "    accuracy                           0.68      2682\n",
      "   macro avg       0.66      0.49      0.52      2682\n",
      "weighted avg       0.68      0.68      0.66      2682\n",
      "\n"
     ]
    }
   ],
   "source": [
    "# Make predictions on the testing data\n",
    "y_pred = clf.predict(X_test)\n",
    "\n",
    "# Evaluate the model\n",
    "accuracy = accuracy_score(y_test, y_pred)\n",
    "classification_rep = classification_report(y_test, y_pred)\n",
    "\n",
    "# Print the results\n",
    "print(f'Accuracy: {accuracy:.2f}')\n",
    "print('Classification Report:')\n",
    "print(classification_rep)"
   ]
  },
  {
   "cell_type": "markdown",
   "metadata": {},
   "source": []
  },
  {
   "cell_type": "code",
   "execution_count": 62,
   "metadata": {},
   "outputs": [
    {
     "name": "stdout",
     "output_type": "stream",
     "text": [
      "Maximum Sequence Length: 8670\n"
     ]
    }
   ],
   "source": [
    "# Calculate the maximum sequence length\n",
    "max_sequence_length = X_train.shape[1]\n",
    "\n",
    "# Print the maximum sequence length\n",
    "print(\"Maximum Sequence Length:\", max_sequence_length)"
   ]
  },
  {
   "cell_type": "code",
   "execution_count": 72,
   "metadata": {},
   "outputs": [
    {
     "name": "stderr",
     "output_type": "stream",
     "text": [
      "Some weights of BertForSequenceClassification were not initialized from the model checkpoint at bert-base-uncased and are newly initialized: ['classifier.weight', 'classifier.bias']\n",
      "You should probably TRAIN this model on a down-stream task to be able to use it for predictions and inference.\n"
     ]
    },
    {
     "ename": "AttributeError",
     "evalue": "'DataFrame' object has no attribute 'tolist'",
     "output_type": "error",
     "traceback": [
      "\u001b[1;31m---------------------------------------------------------------------------\u001b[0m",
      "\u001b[1;31mAttributeError\u001b[0m                            Traceback (most recent call last)",
      "\u001b[1;32m~\\AppData\\Local\\Temp\\ipykernel_11136\\1053035342.py\u001b[0m in \u001b[0;36m?\u001b[1;34m()\u001b[0m\n\u001b[0;32m     13\u001b[0m \u001b[0mbert_model\u001b[0m \u001b[1;33m=\u001b[0m \u001b[0mBertForSequenceClassification\u001b[0m\u001b[1;33m.\u001b[0m\u001b[0mfrom_pretrained\u001b[0m\u001b[1;33m(\u001b[0m\u001b[1;34m'bert-base-uncased'\u001b[0m\u001b[1;33m,\u001b[0m \u001b[0mnum_labels\u001b[0m\u001b[1;33m=\u001b[0m\u001b[1;36m3\u001b[0m\u001b[1;33m)\u001b[0m\u001b[1;33m\u001b[0m\u001b[1;33m\u001b[0m\u001b[0m\n\u001b[0;32m     14\u001b[0m \u001b[1;33m\u001b[0m\u001b[0m\n\u001b[0;32m     15\u001b[0m \u001b[1;31m# Tokenize and encode the text data\u001b[0m\u001b[1;33m\u001b[0m\u001b[1;33m\u001b[0m\u001b[0m\n\u001b[0;32m     16\u001b[0m \u001b[1;31m# input_ids = tokenizer(df['cleaned_text'].tolist(), padding=True, truncation=True, return_tensors='pt', max_length=max_sequence_length, add_special_tokens=True)\u001b[0m\u001b[1;33m\u001b[0m\u001b[1;33m\u001b[0m\u001b[0m\n\u001b[1;32m---> 17\u001b[1;33m \u001b[0minputs\u001b[0m \u001b[1;33m=\u001b[0m \u001b[0mtokenizer\u001b[0m\u001b[1;33m(\u001b[0m\u001b[0mX\u001b[0m\u001b[1;33m.\u001b[0m\u001b[0mtolist\u001b[0m\u001b[1;33m(\u001b[0m\u001b[1;33m)\u001b[0m\u001b[1;33m,\u001b[0m \u001b[0mpadding\u001b[0m\u001b[1;33m=\u001b[0m\u001b[1;32mTrue\u001b[0m\u001b[1;33m,\u001b[0m \u001b[0mtruncation\u001b[0m\u001b[1;33m=\u001b[0m\u001b[1;32mTrue\u001b[0m\u001b[1;33m,\u001b[0m \u001b[0mreturn_tensors\u001b[0m\u001b[1;33m=\u001b[0m\u001b[1;34m'pt'\u001b[0m\u001b[1;33m,\u001b[0m \u001b[0mmax_length\u001b[0m\u001b[1;33m=\u001b[0m\u001b[0mmax_sequence_length\u001b[0m\u001b[1;33m,\u001b[0m \u001b[0madd_special_tokens\u001b[0m\u001b[1;33m=\u001b[0m\u001b[1;32mTrue\u001b[0m\u001b[1;33m)\u001b[0m\u001b[1;33m\u001b[0m\u001b[1;33m\u001b[0m\u001b[0m\n\u001b[0m\u001b[0;32m     18\u001b[0m \u001b[0mlabels\u001b[0m \u001b[1;33m=\u001b[0m \u001b[0mtorch\u001b[0m\u001b[1;33m.\u001b[0m\u001b[0mtensor\u001b[0m\u001b[1;33m(\u001b[0m\u001b[0mdf\u001b[0m\u001b[1;33m[\u001b[0m\u001b[1;34m'sentiment'\u001b[0m\u001b[1;33m]\u001b[0m\u001b[1;33m.\u001b[0m\u001b[0mtolist\u001b[0m\u001b[1;33m(\u001b[0m\u001b[1;33m)\u001b[0m\u001b[1;33m)\u001b[0m\u001b[1;33m\u001b[0m\u001b[1;33m\u001b[0m\u001b[0m\n\u001b[0;32m     19\u001b[0m \u001b[1;33m\u001b[0m\u001b[0m\n\u001b[0;32m     20\u001b[0m \u001b[1;31m# Create a DataLoader for the dataset\u001b[0m\u001b[1;33m\u001b[0m\u001b[1;33m\u001b[0m\u001b[0m\n",
      "\u001b[1;32mc:\\Users\\STREAMING\\Downloads\\KEVOS PROJECT\\venv\\Lib\\site-packages\\pandas\\core\\generic.py\u001b[0m in \u001b[0;36m?\u001b[1;34m(self, name)\u001b[0m\n\u001b[0;32m   6198\u001b[0m             \u001b[1;32mand\u001b[0m \u001b[0mname\u001b[0m \u001b[1;32mnot\u001b[0m \u001b[1;32min\u001b[0m \u001b[0mself\u001b[0m\u001b[1;33m.\u001b[0m\u001b[0m_accessors\u001b[0m\u001b[1;33m\u001b[0m\u001b[1;33m\u001b[0m\u001b[0m\n\u001b[0;32m   6199\u001b[0m             \u001b[1;32mand\u001b[0m \u001b[0mself\u001b[0m\u001b[1;33m.\u001b[0m\u001b[0m_info_axis\u001b[0m\u001b[1;33m.\u001b[0m\u001b[0m_can_hold_identifiers_and_holds_name\u001b[0m\u001b[1;33m(\u001b[0m\u001b[0mname\u001b[0m\u001b[1;33m)\u001b[0m\u001b[1;33m\u001b[0m\u001b[1;33m\u001b[0m\u001b[0m\n\u001b[0;32m   6200\u001b[0m         ):\n\u001b[0;32m   6201\u001b[0m             \u001b[1;32mreturn\u001b[0m \u001b[0mself\u001b[0m\u001b[1;33m[\u001b[0m\u001b[0mname\u001b[0m\u001b[1;33m]\u001b[0m\u001b[1;33m\u001b[0m\u001b[1;33m\u001b[0m\u001b[0m\n\u001b[1;32m-> 6202\u001b[1;33m         \u001b[1;32mreturn\u001b[0m \u001b[0mobject\u001b[0m\u001b[1;33m.\u001b[0m\u001b[0m__getattribute__\u001b[0m\u001b[1;33m(\u001b[0m\u001b[0mself\u001b[0m\u001b[1;33m,\u001b[0m \u001b[0mname\u001b[0m\u001b[1;33m)\u001b[0m\u001b[1;33m\u001b[0m\u001b[1;33m\u001b[0m\u001b[0m\n\u001b[0m",
      "\u001b[1;31mAttributeError\u001b[0m: 'DataFrame' object has no attribute 'tolist'"
     ]
    }
   ],
   "source": [
    "import pandas as pd\n",
    "import tensorflow as tf\n",
    "from sklearn.model_selection import train_test_split\n",
    "from transformers import BertTokenizer, TFBertForSequenceClassification\n",
    "from sklearn.preprocessing import LabelEncoder\n",
    "\n",
    "## Install and import the transformers library\n",
    "from transformers import BertTokenizer, BertForSequenceClassification, AdamW\n",
    "import torch\n",
    "\n",
    "# Load BERT tokenizer and model\n",
    "tokenizer = BertTokenizer.from_pretrained('bert-base-uncased')\n",
    "bert_model = BertForSequenceClassification.from_pretrained('bert-base-uncased', num_labels=3)\n",
    "\n",
    "# Tokenize and encode the text data\n",
    "# input_ids = tokenizer(df['cleaned_text'].tolist(), padding=True, truncation=True, return_tensors='pt', max_length=max_sequence_length, add_special_tokens=True)\n",
    "inputs = tokenizer(X.tolist(), padding=True, truncation=True, return_tensors='pt', max_length=max_sequence_length, add_special_tokens=True)\n",
    "# Add the 'sentiment' as labels\n",
    "inputs['labels'] = torch.tensor(y.tolist())\n",
    "\n",
    "# Create a DataLoader for the dataset\n",
    "from torch.utils.data import DataLoader, TensorDataset\n",
    "dataset = TensorDataset(input_ids.input_ids, input_ids.attention_mask, labels)\n",
    "dataloader = DataLoader(dataset, batch_size=64)\n",
    "\n",
    "# Set up training parameters\n",
    "optimizer = AdamW(bert_model.parameters(), lr=2e-5)\n",
    "epochs = 3\n",
    "\n",
    "# Fine-tune the BERT model\n",
    "bert_model.train()\n",
    "for epoch in range(epochs):\n",
    "    for batch in dataloader:\n",
    "        optimizer.zero_grad()\n",
    "        input_ids, attention_mask, labels = batch\n",
    "        outputs = bert_model(input_ids, attention_mask=attention_mask, labels=labels)\n",
    "        loss = outputs.loss\n",
    "        loss.backward()\n",
    "        optimizer.step()\n",
    "\n",
    "# Evaluate the BERT model\n",
    "bert_model.eval()\n",
    "predictions = []\n",
    "for batch in dataloader:\n",
    "    input_ids, attention_mask, labels = batch\n",
    "    with torch.no_grad():\n",
    "        outputs = bert_model(input_ids, attention_mask=attention_mask)\n",
    "    predictions.extend(outputs.logits.argmax(dim=1).tolist())\n",
    "\n",
    "# Calculate accuracy and other metrics\n",
    "from sklearn.metrics import accuracy_score, classification_report\n",
    "y_true = labels.tolist()\n",
    "y_pred_bert = [p for sublist in predictions for p in sublist]\n",
    "print(classification_report(y_true, y_pred_bert))\n",
    "\n"
   ]
  },
  {
   "cell_type": "markdown",
   "metadata": {},
   "source": [
    "### 3. SupportVectorMachine"
   ]
  },
  {
   "cell_type": "markdown",
   "metadata": {},
   "source": [
    "Support Vector Machines (SVM) are used in NLP because they excel at handling high-dimensional data like text. SVMs can effectively separate and classify text data, making them suitable for tasks like sentiment analysis and text categorization. They maximize the margin between different classes, leading to robust generalization and good performance, even when dealing with complex and unstructured natural language text. Let's first find best hyperparameters through ridSearchCV."
   ]
  },
  {
   "cell_type": "code",
   "execution_count": null,
   "metadata": {},
   "outputs": [],
   "source": [
    "# # Define the parameter grid to search\n",
    "# param_grid = {\n",
    "#     'C': [0.1, 1, 10],             # Regularization parameter\n",
    "#     'kernel': ['linear', 'rbf'],   # Kernel type\n",
    "# }\n",
    "\n",
    "# # Create an instance of the SVM classifier\n",
    "# svm_classifier = SVC()\n",
    "\n",
    "# # Create GridSearchCV with cross-validation (cv=5)\n",
    "# grid_search = GridSearchCV(svm_classifier, param_grid, cv=5, n_jobs=-1)\n",
    "\n",
    "# # Fit the grid search to your training data\n",
    "# grid_search.fit(X_train, y_train)\n",
    "\n",
    "# # Get the best hyperparameters from the grid search\n",
    "# best_params = grid_search.best_params_\n",
    "\n",
    "# # Print the best hyperparameters\n",
    "# print(\"Best Hyperparameters:\", best_params)"
   ]
  },
  {
   "cell_type": "markdown",
   "metadata": {},
   "source": [
    "'C': 1: The hyperparameter 'C' represents the regularization parameter in an SVM model. It controls the trade-off between maximizing the margin between classes and minimizing the classification error on the training data. In this case, a value of 1 indicates that the model uses a relatively low level of regularization.\n",
    "\n",
    "'kernel': 'rbf': The RBF (Radial Basis Function) kernel is a type of kernel function used in SVMs. It is often used when the decision boundary between classes is nonlinear. The RBF kernel can capture complex patterns in the data by mapping it into a higher-dimensional space."
   ]
  },
  {
   "cell_type": "code",
   "execution_count": null,
   "metadata": {},
   "outputs": [],
   "source": [
    "# Initialize the SVM classifier with the best hyperparameters\n",
    "svm_classifier = SVC(C=1, kernel='rbf', random_state=42)\n",
    "\n",
    "# Train the SVM classifier on the training data\n",
    "svm_classifier.fit(X_train, y_train)\n",
    "\n",
    "# Make predictions on the test data\n",
    "y_pred_svm = svm_classifier.predict(X_test)\n",
    "\n",
    "# Evaluate the SVM classifier\n",
    "accuracy = accuracy_score(y_test, y_pred_svm)\n",
    "classification_rep = classification_report(y_test, y_pred_svm)\n",
    "\n",
    "# Print the results\n",
    "print(f\"Accuracy: {accuracy:.2f}\")\n",
    "print(\"Classification Report:\")\n",
    "print(classification_rep)"
   ]
  },
  {
   "cell_type": "markdown",
   "metadata": {},
   "source": [
    "The accuracy of the model is 0.69, meaning it correctly predicted 69% of the data points. The classification report shows how well the model performed for each class. Class 1 had a decent precision but lower recall, suggesting it's not great at identifying that class. Class 3 performed well, with high precision and recall. Class 2 had lower performance overall. In summary, the model is better at predicting Class 3, while Class 2 is challenging to predict accurately."
   ]
  },
  {
   "cell_type": "markdown",
   "metadata": {},
   "source": [
    "### 4. Recurrent Neural Network (RNN)"
   ]
  },
  {
   "cell_type": "markdown",
   "metadata": {},
   "source": [
    "Recurrent Neural Networks (RNNs) can be employed for Natural Language Processing (NLP). RNNs excel at capturing sequential dependencies in text data, making them ideal for tasks like sentiment analysis. By leveraging the temporal information within sentences, RNNs can improve sentiment classification accuracy by considering word order and context, leading to more nuanced and context-aware sentiment predictions. This enhanced model can provide valuable insights into user sentiment for businesses, enabling them to make data-driven decisions for marketing, product development, and customer service improvements."
   ]
  },
  {
   "cell_type": "code",
   "execution_count": 80,
   "metadata": {},
   "outputs": [
    {
     "name": "stdout",
     "output_type": "stream",
     "text": [
      "Model: \"sequential_2\"\n",
      "_________________________________________________________________\n",
      " Layer (type)                Output Shape              Param #   \n",
      "=================================================================\n",
      " embedding_2 (Embedding)     (None, 8670, 100)         1113700   \n",
      "                                                                 \n",
      " simple_rnn_2 (SimpleRNN)    (None, 128)               29312     \n",
      "                                                                 \n",
      " dense_2 (Dense)             (None, 3)                 387       \n",
      "                                                                 \n",
      "=================================================================\n",
      "Total params: 1143399 (4.36 MB)\n",
      "Trainable params: 1143399 (4.36 MB)\n",
      "Non-trainable params: 0 (0.00 Byte)\n",
      "_________________________________________________________________\n"
     ]
    }
   ],
   "source": [
    "# Define the RNN model\n",
    "rnn_model = Sequential()\n",
    "\n",
    "# Add an Embedding layer to convert text data into numerical form\n",
    "embedding_dim = 100  \n",
    "max_sequence_length = 8670  \n",
    "\n",
    "rnn_model.add(Embedding(input_dim=vocabulary_size, output_dim=embedding_dim, input_length=max_sequence_length))\n",
    "\n",
    "# Add a SimpleRNN layer with 128 units (adjust as needed)\n",
    "rnn_model.add(SimpleRNN(128))\n",
    "\n",
    "# Add a Dense output layer with softmax activation for multi-class classification\n",
    "num_classes = 3  # Replace with the actual number of classes in your dataset\n",
    "rnn_model.add(Dense(num_classes, activation='softmax'))\n",
    "\n",
    "# Compile the RNN model\n",
    "rnn_model.compile(optimizer='adam', loss='categorical_crossentropy', metrics=['accuracy'])\n",
    "\n",
    "# Print a summary of the model architecture\n",
    "rnn_model.summary()\n"
   ]
  },
  {
   "cell_type": "markdown",
   "metadata": {},
   "source": [
    "**Model Type:** Sequential Model\n",
    "A \"Sequential\" model is like stacking building blocks one on top of another for processing data in a sequence.\n",
    "\n",
    "**Layers:** It consists of three main layers:\n",
    "1. **Embedding Layer:** This layer transforms words or tokens into numerical representations. In this model, it converts words into 100-dimensional vectors (mathematical representations) that the computer can work with.\n",
    "\n",
    "2. **SimpleRNN Layer:** This is a type of layer that helps the model understand patterns in sequences of data. It takes the output from the embedding layer and simplifies it into a 128-dimensional representation.\n",
    "\n",
    "3. **Dense Layer:** This layer makes decisions based on the patterns learned from the data. It has 3 units, indicating it's making a decision among 3 possible categories or classes.\n",
    "\n",
    "**Total Parameters:** The model has 1,143,399 parameters (values the model learns during training). These parameters allow the model to make sense of the data and make predictions.\n",
    "\n",
    "**Trainable Parameters:** All 1,143,399 parameters in this model can be updated and improved during training to make the model better at its task.\n",
    "\n",
    "**Non-trainable Parameters:** There are no parameters that are fixed and cannot be changed in this model.\n",
    "\n",
    "In simpler terms, this model takes words, understands their meanings, looks for patterns in text, and then decides which category a piece of text belongs to (e.g., positive, negative, or neutral sentiment). It has learned from a lot of text to do this effectively."
   ]
  },
  {
   "cell_type": "code",
   "execution_count": 87,
   "metadata": {},
   "outputs": [
    {
     "name": "stdout",
     "output_type": "stream",
     "text": [
      "Collecting keras-utilsNote: you may need to restart the kernel to use updated packages.\n",
      "\n",
      "  Downloading keras-utils-1.0.13.tar.gz (2.4 kB)\n",
      "  Preparing metadata (setup.py): started\n",
      "  Preparing metadata (setup.py): finished with status 'done'\n",
      "Requirement already satisfied: Keras>=2.1.5 in c:\\users\\streaming\\downloads\\kevos project\\venv\\lib\\site-packages (from keras-utils) (2.13.1)\n",
      "Building wheels for collected packages: keras-utils\n",
      "  Building wheel for keras-utils (setup.py): started\n",
      "  Building wheel for keras-utils (setup.py): finished with status 'done'\n",
      "  Created wheel for keras-utils: filename=keras_utils-1.0.13-py3-none-any.whl size=2654 sha256=a4419bdcdee0d070a168eb9862fa442533b27124df7ddfcd2de739753fb80a8f\n",
      "  Stored in directory: c:\\users\\streaming\\appdata\\local\\pip\\cache\\wheels\\84\\04\\c8\\f3d21e09aa3a1e25bc4a4fc07341ca073d7372f33dbd344a06\n",
      "Successfully built keras-utils\n",
      "Installing collected packages: keras-utils\n",
      "Successfully installed keras-utils-1.0.13\n"
     ]
    }
   ],
   "source": [
    "pip install --upgrade keras-utils"
   ]
  },
  {
   "cell_type": "code",
   "execution_count": 86,
   "metadata": {},
   "outputs": [
    {
     "name": "stdout",
     "output_type": "stream",
     "text": [
      "Epoch 1/10\n"
     ]
    },
    {
     "ename": "ValueError",
     "evalue": "in user code:\n\n    File \"c:\\Users\\STREAMING\\Downloads\\KEVOS PROJECT\\venv\\Lib\\site-packages\\keras\\src\\engine\\training.py\", line 1338, in train_function  *\n        return step_function(self, iterator)\n    File \"c:\\Users\\STREAMING\\Downloads\\KEVOS PROJECT\\venv\\Lib\\site-packages\\keras\\src\\engine\\training.py\", line 1322, in step_function  **\n        outputs = model.distribute_strategy.run(run_step, args=(data,))\n    File \"c:\\Users\\STREAMING\\Downloads\\KEVOS PROJECT\\venv\\Lib\\site-packages\\keras\\src\\engine\\training.py\", line 1303, in run_step  **\n        outputs = model.train_step(data)\n    File \"c:\\Users\\STREAMING\\Downloads\\KEVOS PROJECT\\venv\\Lib\\site-packages\\keras\\src\\engine\\training.py\", line 1081, in train_step\n        loss = self.compute_loss(x, y, y_pred, sample_weight)\n    File \"c:\\Users\\STREAMING\\Downloads\\KEVOS PROJECT\\venv\\Lib\\site-packages\\keras\\src\\engine\\training.py\", line 1139, in compute_loss\n        return self.compiled_loss(\n    File \"c:\\Users\\STREAMING\\Downloads\\KEVOS PROJECT\\venv\\Lib\\site-packages\\keras\\src\\engine\\compile_utils.py\", line 265, in __call__\n        loss_value = loss_obj(y_t, y_p, sample_weight=sw)\n    File \"c:\\Users\\STREAMING\\Downloads\\KEVOS PROJECT\\venv\\Lib\\site-packages\\keras\\src\\losses.py\", line 142, in __call__\n        losses = call_fn(y_true, y_pred)\n    File \"c:\\Users\\STREAMING\\Downloads\\KEVOS PROJECT\\venv\\Lib\\site-packages\\keras\\src\\losses.py\", line 268, in call  **\n        return ag_fn(y_true, y_pred, **self._fn_kwargs)\n    File \"c:\\Users\\STREAMING\\Downloads\\KEVOS PROJECT\\venv\\Lib\\site-packages\\keras\\src\\losses.py\", line 2122, in categorical_crossentropy\n        return backend.categorical_crossentropy(\n    File \"c:\\Users\\STREAMING\\Downloads\\KEVOS PROJECT\\venv\\Lib\\site-packages\\keras\\src\\backend.py\", line 5560, in categorical_crossentropy\n        target.shape.assert_is_compatible_with(output.shape)\n\n    ValueError: Shapes (None, 1) and (None, 3) are incompatible\n",
     "output_type": "error",
     "traceback": [
      "\u001b[1;31m---------------------------------------------------------------------------\u001b[0m",
      "\u001b[1;31mValueError\u001b[0m                                Traceback (most recent call last)",
      "\u001b[1;32mc:\\Users\\STREAMING\\Downloads\\KEVOS PROJECT\\sentiment.ipynb Cell 65\u001b[0m line \u001b[0;36m1\n\u001b[0;32m     <a href='vscode-notebook-cell:/c%3A/Users/STREAMING/Downloads/KEVOS%20PROJECT/sentiment.ipynb#Y106sZmlsZQ%3D%3D?line=12'>13</a>\u001b[0m rnn_model\u001b[39m.\u001b[39mcompile(optimizer\u001b[39m=\u001b[39m\u001b[39m'\u001b[39m\u001b[39madam\u001b[39m\u001b[39m'\u001b[39m, loss\u001b[39m=\u001b[39m\u001b[39m'\u001b[39m\u001b[39mcategorical_crossentropy\u001b[39m\u001b[39m'\u001b[39m, metrics\u001b[39m=\u001b[39m[\u001b[39m'\u001b[39m\u001b[39maccuracy\u001b[39m\u001b[39m'\u001b[39m])\n\u001b[0;32m     <a href='vscode-notebook-cell:/c%3A/Users/STREAMING/Downloads/KEVOS%20PROJECT/sentiment.ipynb#Y106sZmlsZQ%3D%3D?line=14'>15</a>\u001b[0m \u001b[39m# Train the RNN model with one-hot encoded targets\u001b[39;00m\n\u001b[1;32m---> <a href='vscode-notebook-cell:/c%3A/Users/STREAMING/Downloads/KEVOS%20PROJECT/sentiment.ipynb#Y106sZmlsZQ%3D%3D?line=15'>16</a>\u001b[0m rnn_model\u001b[39m.\u001b[39;49mfit(X_train_np, y_train_encoded, epochs\u001b[39m=\u001b[39;49m\u001b[39m10\u001b[39;49m, batch_size\u001b[39m=\u001b[39;49m\u001b[39m64\u001b[39;49m, validation_split\u001b[39m=\u001b[39;49m\u001b[39m0.2\u001b[39;49m)\n\u001b[0;32m     <a href='vscode-notebook-cell:/c%3A/Users/STREAMING/Downloads/KEVOS%20PROJECT/sentiment.ipynb#Y106sZmlsZQ%3D%3D?line=17'>18</a>\u001b[0m \u001b[39m# Evaluate the model\u001b[39;00m\n\u001b[0;32m     <a href='vscode-notebook-cell:/c%3A/Users/STREAMING/Downloads/KEVOS%20PROJECT/sentiment.ipynb#Y106sZmlsZQ%3D%3D?line=18'>19</a>\u001b[0m y_pred_rnn \u001b[39m=\u001b[39m rnn_model\u001b[39m.\u001b[39mpredict(X_test_np)\n",
      "File \u001b[1;32mc:\\Users\\STREAMING\\Downloads\\KEVOS PROJECT\\venv\\Lib\\site-packages\\keras\\src\\utils\\traceback_utils.py:70\u001b[0m, in \u001b[0;36mfilter_traceback.<locals>.error_handler\u001b[1;34m(*args, **kwargs)\u001b[0m\n\u001b[0;32m     67\u001b[0m     filtered_tb \u001b[39m=\u001b[39m _process_traceback_frames(e\u001b[39m.\u001b[39m__traceback__)\n\u001b[0;32m     68\u001b[0m     \u001b[39m# To get the full stack trace, call:\u001b[39;00m\n\u001b[0;32m     69\u001b[0m     \u001b[39m# `tf.debugging.disable_traceback_filtering()`\u001b[39;00m\n\u001b[1;32m---> 70\u001b[0m     \u001b[39mraise\u001b[39;00m e\u001b[39m.\u001b[39mwith_traceback(filtered_tb) \u001b[39mfrom\u001b[39;00m \u001b[39mNone\u001b[39;00m\n\u001b[0;32m     71\u001b[0m \u001b[39mfinally\u001b[39;00m:\n\u001b[0;32m     72\u001b[0m     \u001b[39mdel\u001b[39;00m filtered_tb\n",
      "File \u001b[1;32mC:\\Users\\STREAM~1\\AppData\\Local\\Temp\\__autograph_generated_filefkwcskj3.py:15\u001b[0m, in \u001b[0;36mouter_factory.<locals>.inner_factory.<locals>.tf__train_function\u001b[1;34m(iterator)\u001b[0m\n\u001b[0;32m     13\u001b[0m \u001b[39mtry\u001b[39;00m:\n\u001b[0;32m     14\u001b[0m     do_return \u001b[39m=\u001b[39m \u001b[39mTrue\u001b[39;00m\n\u001b[1;32m---> 15\u001b[0m     retval_ \u001b[39m=\u001b[39m ag__\u001b[39m.\u001b[39mconverted_call(ag__\u001b[39m.\u001b[39mld(step_function), (ag__\u001b[39m.\u001b[39mld(\u001b[39mself\u001b[39m), ag__\u001b[39m.\u001b[39mld(iterator)), \u001b[39mNone\u001b[39;00m, fscope)\n\u001b[0;32m     16\u001b[0m \u001b[39mexcept\u001b[39;00m:\n\u001b[0;32m     17\u001b[0m     do_return \u001b[39m=\u001b[39m \u001b[39mFalse\u001b[39;00m\n",
      "\u001b[1;31mValueError\u001b[0m: in user code:\n\n    File \"c:\\Users\\STREAMING\\Downloads\\KEVOS PROJECT\\venv\\Lib\\site-packages\\keras\\src\\engine\\training.py\", line 1338, in train_function  *\n        return step_function(self, iterator)\n    File \"c:\\Users\\STREAMING\\Downloads\\KEVOS PROJECT\\venv\\Lib\\site-packages\\keras\\src\\engine\\training.py\", line 1322, in step_function  **\n        outputs = model.distribute_strategy.run(run_step, args=(data,))\n    File \"c:\\Users\\STREAMING\\Downloads\\KEVOS PROJECT\\venv\\Lib\\site-packages\\keras\\src\\engine\\training.py\", line 1303, in run_step  **\n        outputs = model.train_step(data)\n    File \"c:\\Users\\STREAMING\\Downloads\\KEVOS PROJECT\\venv\\Lib\\site-packages\\keras\\src\\engine\\training.py\", line 1081, in train_step\n        loss = self.compute_loss(x, y, y_pred, sample_weight)\n    File \"c:\\Users\\STREAMING\\Downloads\\KEVOS PROJECT\\venv\\Lib\\site-packages\\keras\\src\\engine\\training.py\", line 1139, in compute_loss\n        return self.compiled_loss(\n    File \"c:\\Users\\STREAMING\\Downloads\\KEVOS PROJECT\\venv\\Lib\\site-packages\\keras\\src\\engine\\compile_utils.py\", line 265, in __call__\n        loss_value = loss_obj(y_t, y_p, sample_weight=sw)\n    File \"c:\\Users\\STREAMING\\Downloads\\KEVOS PROJECT\\venv\\Lib\\site-packages\\keras\\src\\losses.py\", line 142, in __call__\n        losses = call_fn(y_true, y_pred)\n    File \"c:\\Users\\STREAMING\\Downloads\\KEVOS PROJECT\\venv\\Lib\\site-packages\\keras\\src\\losses.py\", line 268, in call  **\n        return ag_fn(y_true, y_pred, **self._fn_kwargs)\n    File \"c:\\Users\\STREAMING\\Downloads\\KEVOS PROJECT\\venv\\Lib\\site-packages\\keras\\src\\losses.py\", line 2122, in categorical_crossentropy\n        return backend.categorical_crossentropy(\n    File \"c:\\Users\\STREAMING\\Downloads\\KEVOS PROJECT\\venv\\Lib\\site-packages\\keras\\src\\backend.py\", line 5560, in categorical_crossentropy\n        target.shape.assert_is_compatible_with(output.shape)\n\n    ValueError: Shapes (None, 1) and (None, 3) are incompatible\n"
     ]
    }
   ],
   "source": [
    "num_classes = 3\n",
    "# Convert your training and testing data to NumPy arrays\n",
    "X_train_np = np.array(X_train)\n",
    "y_train_encoded = np.array(y_train, dtype=int)\n",
    "X_test_np = np.array(X_test)\n",
    "y_test_encoded = np.array(y_test)\n",
    "y_train_encoded = np.clip(y_train_encoded, 0, num_classes - 1)\n",
    "# Manually convert integer labels to one-hot encoded labels\n",
    "y_train_one_hot = np.zeros((len(y_train_encoded), num_classes))\n",
    "y_train_one_hot[np.arange(len(y_train_encoded)), y_train_encoded] = 1\n",
    "\n",
    "# Compile the model with categorical cross-entropy loss\n",
    "rnn_model.compile(optimizer='adam', loss='categorical_crossentropy', metrics=['accuracy'])\n",
    "\n",
    "# Train the RNN model with one-hot encoded targets\n",
    "rnn_model.fit(X_train_np, y_train_encoded, epochs=10, batch_size=64, validation_split=0.2)\n",
    "\n",
    "# Evaluate the model\n",
    "y_pred_rnn = rnn_model.predict(X_test_np)"
   ]
  },
  {
   "cell_type": "markdown",
   "metadata": {},
   "source": [
    "We then prepare the text data for analysis by combining all the cleaned text entries into one large collection (corpus).\n",
    "\n",
    "We use a tool called CountVectorizer, which helps us count how many times each word appears in the text data.\n",
    "\n",
    "We apply CountVectorizer to the text data (fit and transform) to create a matrix. In this matrix, each row represents a document (text entry), and each column represents a unique word from the entire collection of text.\n",
    "\n",
    "Finally, we convert this matrix into a DataFrame (bow_df) so that we can easily analyze and visualize the word frequencies."
   ]
  },
  {
   "cell_type": "code",
   "execution_count": null,
   "metadata": {},
   "outputs": [
    {
     "name": "stdout",
     "output_type": "stream",
     "text": [
      "   aapl  aaron  aarpbulletin  ab  abacus  abandoned  abba  abc  aber  ability  \\\n",
      "0     0      0             0   0       0          0     0    0     0        0   \n",
      "1     0      0             0   0       0          0     0    0     0        0   \n",
      "2     0      0             0   0       0          0     0    0     0        0   \n",
      "3     0      0             0   0       0          0     0    0     0        0   \n",
      "4     0      0             0   0       0          0     0    0     0        0   \n",
      "\n",
      "   ...  zms  zomb  zombie  zombies  zomg  zone  zoom  zuckerberg  zynga  zzzs  \n",
      "0  ...    0     0       0        0     0     0     0           0      0     0  \n",
      "1  ...    0     0       0        0     0     0     0           0      0     0  \n",
      "2  ...    0     0       0        0     0     0     0           0      0     0  \n",
      "3  ...    0     0       0        0     0     0     0           0      0     0  \n",
      "4  ...    0     0       0        0     0     0     0           0      0     0  \n",
      "\n",
      "[5 rows x 9399 columns]\n"
     ]
    }
   ],
   "source": [
    "from sklearn.feature_extraction.text import CountVectorizer\n",
    "import pandas as pd\n",
    "\n",
    "# Assuming you have a DataFrame 'df' with a 'cleaned_text' column\n",
    "corpus = df['cleaned_text'].apply(lambda x: ' '.join(x))\n",
    "\n",
    "# Initialize the CountVectorizer\n",
    "vectorizer = CountVectorizer()\n",
    "\n",
    "# Fit and transform the text data\n",
    "X = vectorizer.fit_transform(corpus)\n",
    "\n",
    "# Convert the BoW matrix to a DataFrame for further analysis\n",
    "bow_df = pd.DataFrame(X.toarray(), columns=vectorizer.get_feature_names_out())\n",
    "\n",
    "# Display the BoW DataFrame\n",
    "print(bow_df.head())\n"
   ]
  },
  {
   "cell_type": "markdown",
   "metadata": {},
   "source": [
    " The values in the matrix indicate whether a particular word is present (1) or absent (0) in a specific document. This matrix is used in natural language processing (NLP) to transform text data into a numerical format for analysis and machine learning."
   ]
  },
  {
   "cell_type": "code",
   "execution_count": null,
   "metadata": {},
   "outputs": [
    {
     "name": "stdout",
     "output_type": "stream",
     "text": [
      "   aapl  aaron  aarpbulletin  ab  abacus  abandoned  abba  abc  aber  ability  \\\n",
      "0     1      0             0   0       0          0     0    0     0        0   \n",
      "1     0      1             0   0       0          0     0    0     0        0   \n",
      "2     0      0             1   0       0          0     0    0     0        0   \n",
      "3     0      0             0   1       0          0     0    0     0        0   \n",
      "4     0      0             0   0       1          0     0    0     0        0   \n",
      "\n",
      "   ...  zms  zomb  zombie  zombies  zomg  zone  zoom  zuckerberg  zynga  zzzs  \n",
      "0  ...    0     0       0        0     0     0     0           0      0     0  \n",
      "1  ...    0     0       0        0     0     0     0           0      0     0  \n",
      "2  ...    0     0       0        0     0     0     0           0      0     0  \n",
      "3  ...    0     0       0        0     0     0     0           0      0     0  \n",
      "4  ...    0     0       0        0     0     0     0           0      0     0  \n",
      "\n",
      "[5 rows x 9399 columns]\n",
      "   aapl  aaron  aarpbulletin  ab  abacus  abandoned  abba  abc  aber  ability  \\\n",
      "0     1      0             0   0       0          0     0    0     0        0   \n",
      "1     0      1             0   0       0          0     0    0     0        0   \n",
      "2     0      0             1   0       0          0     0    0     0        0   \n",
      "3     0      0             0   1       0          0     0    0     0        0   \n",
      "4     0      0             0   0       1          0     0    0     0        0   \n",
      "\n",
      "   ...  zms  zomb  zombie  zombies  zomg  zone  zoom  zuckerberg  zynga  zzzs  \n",
      "0  ...    0     0       0        0     0     0     0           0      0     0  \n",
      "1  ...    0     0       0        0     0     0     0           0      0     0  \n",
      "2  ...    0     0       0        0     0     0     0           0      0     0  \n",
      "3  ...    0     0       0        0     0     0     0           0      0     0  \n",
      "4  ...    0     0       0        0     0     0     0           0      0     0  \n",
      "\n",
      "[5 rows x 9399 columns]\n"
     ]
    }
   ],
   "source": [
    "corpus = bow_df\n",
    "\n",
    "# Define the split index (e.g., 80% for training and 20% for testing)\n",
    "split_index = int(0.8 * len(corpus))  # Adjust the split percentage as needed\n",
    "\n",
    "# Split the data into training and testing sets\n",
    "X_train = corpus[:split_index]\n",
    "X_test = corpus[split_index:]\n",
    "\n",
    "# Initialize the CountVectorizer\n",
    "vectorizer = CountVectorizer()\n",
    "\n",
    "# Fit and transform the training data\n",
    "X_train_bow = vectorizer.fit_transform(X_train)\n",
    "\n",
    "# Transform the testing data using the same vectorizer\n",
    "X_test_bow = vectorizer.transform(X_test)\n",
    "\n",
    "# Convert the BoW matrices to DataFrames for further analysis\n",
    "bow_df_train = pd.DataFrame(X_train_bow.toarray(), columns=vectorizer.get_feature_names_out())\n",
    "bow_df_test = pd.DataFrame(X_test_bow.toarray(), columns=vectorizer.get_feature_names_out())\n",
    "\n",
    "# Display the BoW DataFrames for both training and testing data\n",
    "print(bow_df_train.head())\n",
    "print(bow_df_test.head())"
   ]
  },
  {
   "cell_type": "markdown",
   "metadata": {},
   "source": [
    "#### Topic modeling\n",
    "Topic modeling helps uncover the underlying themes or topics within the text data, which can be valuable for understanding the content and structure of the tweets. It can reveal patterns or trends that may not be immediately apparent."
   ]
  },
  {
   "cell_type": "code",
   "execution_count": null,
   "metadata": {},
   "outputs": [
    {
     "name": "stdout",
     "output_type": "stream",
     "text": [
      "Topic 1:\n",
      "sxsw mention quot google rt link amp party iphone like\n",
      "Topic 2:\n",
      "sxsw mention iphone link rt ipad app android year amp\n",
      "Topic 3:\n",
      "sxsw mention ipad apple store rt link austin popup quot\n",
      "Topic 4:\n",
      "sxsw google mobile mention link amp marissa mayer maps rt\n",
      "Topic 5:\n",
      "sxsw mention link rt google new iphone circles social app\n"
     ]
    }
   ],
   "source": [
    "# Initialize the LDA model\n",
    "lda_model = LatentDirichletAllocation(n_components=5, random_state=42)\n",
    "\n",
    "# Fit the LDA model to the BoW data\n",
    "lda_output = lda_model.fit_transform(X_train_bow)\n",
    "\n",
    "# Display the topics and their top keywords\n",
    "def display_topics(model, feature_names, n_words=10):\n",
    "    for topic_idx, topic in enumerate(model.components_):\n",
    "        print(f\"Topic {topic_idx + 1}:\")\n",
    "        print(\" \".join([feature_names[i] for i in topic.argsort()[:-n_words - 1:-1]]))\n",
    "\n",
    "# Get the feature names from the CountVectorizer\n",
    "feature_names = vectorizer.get_feature_names_out()\n",
    "\n",
    "# Display the topics and their top keywords\n",
    "display_topics(lda_model, feature_names)\n"
   ]
  },
  {
   "cell_type": "markdown",
   "metadata": {},
   "source": [
    "Topic modeling has uncovered five distinct themes in the data:\n",
    "\n",
    "1. SXSW-related mentions, likely discussing events and parties.\n",
    "2. Mentions of iPhones, iPads, and apps, suggesting discussions about Apple products and applications.\n",
    "3. References to Apple's iPad and store, possibly related to product experiences.\n",
    "4. Mentions of Google, mobile, and maps, possibly referring to Google's presence and services.\n",
    "5. Discussions about Google's new features and social apps, indicating updates in Google's offerings."
   ]
  },
  {
   "cell_type": "code",
   "execution_count": null,
   "metadata": {},
   "outputs": [],
   "source": [
    "# Load your trained RNN model\n",
    "from tensorflow.keras.models import load_model\n",
    "\n",
    "# Load your trained RNN model (replace 'your_model_path' with the actual path)\n",
    "rnn_model = load_model('your_model_path')\n",
    "\n",
    "# Define a function to predict topics\n",
    "def predict_topic(text):\n",
    "    # Tokenize and preprocess the text (ensure it's preprocessed in the same way as during training)\n",
    "    processed_text = preprocess_text(text)\n",
    "    # Tokenize and pad the sequence (ensure it's tokenized and padded in the same way as during training)\n",
    "    tokenized_sequence = tokenize_and_pad_sequence(processed_text)\n",
    "    # Predict the topic using the RNN model\n",
    "    topic_probabilities = rnn_model.predict(tokenized_sequence)\n",
    "    # Return the predicted topic or category\n",
    "    predicted_topic = topic_probabilities.argmax()\n",
    "    return predicted_topic\n",
    "\n",
    "# Example usage:\n",
    "text_to_classify = \"This is a technology-related news article.\"\n",
    "predicted_topic = predict_topic(text_to_classify)\n",
    "print(f\"Predicted Topic: {predicted_topic}\")\n"
   ]
  }
 ],
 "metadata": {
  "kernelspec": {
   "display_name": "learn-env",
   "language": "python",
   "name": "python3"
  },
  "language_info": {
   "codemirror_mode": {
    "name": "ipython",
    "version": 3
   },
   "file_extension": ".py",
   "mimetype": "text/x-python",
   "name": "python",
   "nbconvert_exporter": "python",
   "pygments_lexer": "ipython3",
   "version": "3.11.5"
  },
  "orig_nbformat": 4
 },
 "nbformat": 4,
 "nbformat_minor": 2
}
